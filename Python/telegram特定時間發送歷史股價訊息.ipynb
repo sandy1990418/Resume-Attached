{
  "nbformat": 4,
  "nbformat_minor": 0,
  "metadata": {
    "colab": {
      "name": "telegram特定時間發送歷史股價訊息.ipynb",
      "provenance": []
    },
    "kernelspec": {
      "name": "python3",
      "display_name": "Python 3"
    }
  },
  "cells": [
    {
      "cell_type": "markdown",
      "metadata": {
        "id": "FqWWQxXMpxS0",
        "colab_type": "text"
      },
      "source": [
        ""
      ]
    },
    {
      "cell_type": "code",
      "metadata": {
        "id": "7rkFLoRyx2ii",
        "colab_type": "code",
        "outputId": "90d7e00b-111f-4499-9655-a9fa2cf19149",
        "colab": {
          "base_uri": "https://localhost:8080/",
          "height": 230
        }
      },
      "source": [
        "!pip install schedule\n",
        "!pip install yahoofinancials"
      ],
      "execution_count": 0,
      "outputs": [
        {
          "output_type": "stream",
          "text": [
            "Requirement already satisfied: schedule in /usr/local/lib/python3.6/dist-packages (0.6.0)\n",
            "Collecting yahoofinancials\n",
            "  Downloading https://files.pythonhosted.org/packages/46/be/44b0bc468a22e114f99dc6a1211f848e4ab7955f3262df589cea98f03cfd/yahoofinancials-1.5.tar.gz\n",
            "Requirement already satisfied: beautifulsoup4 in /usr/local/lib/python3.6/dist-packages (from yahoofinancials) (4.6.3)\n",
            "Requirement already satisfied: pytz in /usr/local/lib/python3.6/dist-packages (from yahoofinancials) (2018.9)\n",
            "Building wheels for collected packages: yahoofinancials\n",
            "  Building wheel for yahoofinancials (setup.py) ... \u001b[?25l\u001b[?25hdone\n",
            "  Created wheel for yahoofinancials: filename=yahoofinancials-1.5-cp36-none-any.whl size=15195 sha256=18d6cf5c8ae102e59c471460c37434e3684a6e14460fd673758823b1e7d3df63\n",
            "  Stored in directory: /root/.cache/pip/wheels/42/15/e7/240c5cdc8782b9479ba73404640a3be57bb4053a5c3edd6be5\n",
            "Successfully built yahoofinancials\n",
            "Installing collected packages: yahoofinancials\n",
            "Successfully installed yahoofinancials-1.5\n"
          ],
          "name": "stdout"
        }
      ]
    },
    {
      "cell_type": "code",
      "metadata": {
        "id": "dZp9qHFxpwJX",
        "colab_type": "code",
        "outputId": "ba7aa827-73f1-485c-9d7d-2a53c6cb9a7a",
        "colab": {
          "base_uri": "https://localhost:8080/",
          "height": 55
        }
      },
      "source": [
        "import requests\n",
        "import time\n",
        "import schedule\n",
        "import datetime\n",
        "from pandas_datareader import data as pdr\n",
        "from yahoofinancials import YahooFinancials\n",
        "import yahoofinancials\n",
        "import sys \n",
        "from datetime import datetime\n",
        "import threading\n",
        "\n",
        "def telegram_bot_sendtext(bot_message):\n",
        "    \n",
        "    bot_token = '1098***********************************'\n",
        "    bot_chatID = '5050****'\n",
        "    send_text='https://api.telegram.org/bot' + bot_token + '/sendMessage?chat_id=' + bot_chatID + '&parse_mode=Markdown&text=' + bot_message\n",
        "\n",
        "    response = requests.get(send_text)\n",
        "\n",
        "    return response.json()\n",
        "    \n",
        "\n",
        "test = telegram_bot_sendtext(\"Testing Telegram bot\")\n",
        "print(test)"
      ],
      "execution_count": 0,
      "outputs": [
        {
          "output_type": "stream",
          "text": [
            "{'ok': True, 'result': {'message_id': 68, 'from': {'id': 1098468234, 'is_bot': True, 'first_name': 'Telegram_is_great', 'username': 'Littlenamebot'}, 'chat': {'id': 505032933, 'first_name': '慧霜哦', 'username': 's148191', 'type': 'private'}, 'date': 1583686203, 'text': 'Testing Telegram bot'}}\n"
          ],
          "name": "stdout"
        }
      ]
    },
    {
      "cell_type": "code",
      "metadata": {
        "id": "-TaTf059wYic",
        "colab_type": "code",
        "outputId": "41dac421-7d66-40c1-9fd2-f7496c76cc83",
        "colab": {
          "base_uri": "https://localhost:8080/",
          "height": 168
        }
      },
      "source": [
        "##dictionary to strings\n",
        "\n",
        "def dict_to_str(price):\n",
        "    text = \"\"\n",
        "    for k , v in price.items():\n",
        "        text += str(k) + \": \" + str(v) +\"\\n\\n\\n\"\n",
        "    return(text)\n",
        "\n",
        "\n",
        "##get and send historical price to telegram !\n",
        "def stock_historical_price(what_you_want_to_know,first_day,end_day,time_interval):\n",
        "     bot_token = '1098***********************************'\n",
        "     bot_chatID = '5050****'\n",
        "     response= \"Let me fetch Latest quote for you \\n\"\n",
        "     yahoo_stock=YahooFinancials(what_you_want_to_know)\n",
        "     yahoo_stock_price =yahoo_stock.get_historical_price_data(first_day,end_day,time_interval)\n",
        "     \n",
        "     price=yahoo_stock_price\n",
        "     text = dict_to_str(price)\n",
        "     send_text='https://api.telegram.org/bot' + bot_token + '/sendMessage?chat_id=' + bot_chatID + '&parse_mode=Markdown&text=' + text\n",
        "     response=requests.get(send_text)\n",
        "     print(response)\n",
        "     sys.exit(\"all done!\")\n",
        "\n",
        "\n",
        "#add current  time \n",
        "now = ((datetime.datetime.now())+datetime.timedelta(hours=8))\n",
        "current_time = now.strftime(\"%H:%M\")\n",
        "#print(\"Current Time =\", current_time)\n",
        "\n",
        "\n",
        "\n",
        "while True:\n",
        "  if current_time=='01:01':\n",
        "    ticker=['AAPL', 'MSFT']\n",
        "    start_date = '2017-10-01'\n",
        "    end_date = '2017-11-01'\n",
        "    interval =\"monthly\"\n",
        "\n",
        "    stock_historical_price(ticker,start_date,end_date,interval)\n",
        "    time.sleep(1)\n",
        "    break\n",
        "  else:\n",
        "    print(\"Current Time =\", current_time,\"Not Now!\")"
      ],
      "execution_count": 0,
      "outputs": [
        {
          "output_type": "stream",
          "text": [
            "<Response [200]>\n"
          ],
          "name": "stdout"
        },
        {
          "output_type": "error",
          "ename": "SystemExit",
          "evalue": "ignored",
          "traceback": [
            "An exception has occurred, use %tb to see the full traceback.\n",
            "\u001b[0;31mSystemExit\u001b[0m\u001b[0;31m:\u001b[0m all done!\n"
          ]
        },
        {
          "output_type": "stream",
          "text": [
            "/usr/local/lib/python3.6/dist-packages/IPython/core/interactiveshell.py:2890: UserWarning: To exit: use 'exit', 'quit', or Ctrl-D.\n",
            "  warn(\"To exit: use 'exit', 'quit', or Ctrl-D.\", stacklevel=1)\n"
          ],
          "name": "stderr"
        }
      ]
    },
    {
      "cell_type": "code",
      "metadata": {
        "id": "abaq0CqxELc9",
        "colab_type": "code",
        "outputId": "9b0a1c1b-37ca-4e3f-c395-f208ab5a1dfc",
        "colab": {
          "base_uri": "https://localhost:8080/",
          "height": 35
        }
      },
      "source": [
        "import datetime\n",
        "datetime.datetime.now()\n",
        "\n",
        "print(datetime.datetime.now().time())"
      ],
      "execution_count": 0,
      "outputs": [
        {
          "output_type": "stream",
          "text": [
            "16:53:42.475301\n"
          ],
          "name": "stdout"
        }
      ]
    },
    {
      "cell_type": "code",
      "metadata": {
        "id": "_N00uStcBl-d",
        "colab_type": "code",
        "colab": {}
      },
      "source": [
        ""
      ],
      "execution_count": 0,
      "outputs": []
    },
    {
      "cell_type": "markdown",
      "metadata": {
        "id": "EHg3GkEd-jvr",
        "colab_type": "text"
      },
      "source": [
        "參考資料\n",
        "\n",
        "\n",
        "\n",
        "1.\n",
        "https://medium.com/%E8%B3%87%E6%96%99%E9%9A%A8%E7%AD%86/%E8%B3%87%E6%96%99%E9%9A%A8%E7%AD%86-%E8%B5%B7%E4%B8%80%E9%9A%BB-telegram-bot-%E6%8B%8E-twitter-message-1be2518e6c4c\n",
        "\n",
        "2.\n",
        "https://pypi.org/project/yahoofinancials/\n",
        "\n",
        "3.\n",
        "https://stackoverflow.com/questions/49705047/downloading-mutliple-stocks-at-once-from-yahoo-finance-python\n",
        "\n",
        "4.\n",
        "https://codeburst.io/indian-stock-market-price-notifier-bot-telegram-92e376b0c33a\n",
        "\n",
        "5.\n",
        "https://github.com/python-telegram-bot/python-telegram-bot/wiki/Code-snippets\n",
        "\n",
        "6.https://stackoverflow.com/questions/51286525/getting-stock-historical-data-from-api-for-a-python-project\n"
      ]
    }
  ]
}