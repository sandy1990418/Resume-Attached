{
  "nbformat": 4,
  "nbformat_minor": 0,
  "metadata": {
    "colab": {
      "name": "Anomaly_Detection.ipynb",
      "provenance": [],
      "collapsed_sections": [],
      "authorship_tag": "ABX9TyNrLBaj52owTodEY1DiizSx",
      "include_colab_link": true
    },
    "kernelspec": {
      "name": "python3",
      "display_name": "Python 3"
    },
    "accelerator": "TPU"
  },
  "cells": [
    {
      "cell_type": "markdown",
      "metadata": {
        "id": "view-in-github",
        "colab_type": "text"
      },
      "source": [
        "<a href=\"https://colab.research.google.com/github/sandy1990418/Deep_learning/blob/master/Anomaly_Detection.ipynb\" target=\"_parent\"><img src=\"https://colab.research.google.com/assets/colab-badge.svg\" alt=\"Open In Colab\"/></a>"
      ]
    },
    {
      "cell_type": "markdown",
      "metadata": {
        "id": "pBZRE-9LUJHg",
        "colab_type": "text"
      },
      "source": [
        "##異常偵測Anomaly Detection \n",
        "異常偵測:類似於離群值的概念\n",
        "\n",
        "\n",
        "1.常態分佈法:若資料點在兩個標準差外，可視為離群值\n",
        "\n",
        "2.箱型圖:Q1+1.5(Q3-Q1)、Q3+1.5(Q3-Q1)\n",
        "\n",
        "3.DBSCAN(分群演算法)\n",
        "\n",
        "4.孤立森林(Isolation Forest)\n",
        "\n",
        "Reference\n",
        "\n",
        "https://towardsdatascience.com/5-ways-to-detect-outliers-that-every-data-scientist-should-know-python-code-70a54335a623"
      ]
    },
    {
      "cell_type": "code",
      "metadata": {
        "id": "ger787VaWzjD",
        "colab_type": "code",
        "colab": {}
      },
      "source": [
        "import numpy as np\n",
        "import matplotlib.pyplot as plt"
      ],
      "execution_count": 0,
      "outputs": []
    },
    {
      "cell_type": "markdown",
      "metadata": {
        "id": "God3hIShD3OR",
        "colab_type": "text"
      },
      "source": [
        "##Normal Distribution Method"
      ]
    },
    {
      "cell_type": "code",
      "metadata": {
        "id": "D2xH8yzIUG3D",
        "colab_type": "code",
        "colab": {
          "base_uri": "https://localhost:8080/",
          "height": 1000
        },
        "outputId": "9d61b35c-7458-4671-f6a5-59da54330a70"
      },
      "source": [
        "#常態分佈法\n",
        "\n",
        "##產生隨機亂數\n",
        "data = np.random.randn(4000)  * 100 + 20\n",
        "##空集合\n",
        "anomalies = []\n",
        "##Define function \n",
        "def Normal_method(data):\n",
        "    ##算標準差\n",
        "    data_std = np.std(data)\n",
        "    ##算平均值\n",
        "    data_mean = np.mean(data)\n",
        "    ##算離群值標借\n",
        "    abnormality = data_std * 2\n",
        "    ##算下界\n",
        "    lower  = data_mean - abnormality\n",
        "    ##算上界\n",
        "    upper = data_mean + abnormality\n",
        "    ##如果數值大於(小於)上界(下界)則為離群值\n",
        "    for outlier in data:\n",
        "        if outlier > upper or outlier < lower:\n",
        "            anomalies.append(outlier)\n",
        "    return anomalies\n",
        "\n",
        "\n",
        "Normal_method(data)"
      ],
      "execution_count": 6,
      "outputs": [
        {
          "output_type": "execute_result",
          "data": {
            "text/plain": [
              "[237.9722672654917,\n",
              " 279.27928233298206,\n",
              " 249.0986049666704,\n",
              " 238.88121810453532,\n",
              " -185.85669712335246,\n",
              " -209.91404687407854,\n",
              " 230.795041253011,\n",
              " -235.3111136071462,\n",
              " -186.18399560840396,\n",
              " 227.18305692014943,\n",
              " -215.05933883376565,\n",
              " -223.6764042563542,\n",
              " 393.8696198257344,\n",
              " 242.8757476292603,\n",
              " -234.49868319133557,\n",
              " 287.1193280688309,\n",
              " -201.95670680542884,\n",
              " -310.17218851378345,\n",
              " -270.0243784266225,\n",
              " -186.17776314817013,\n",
              " -196.3422173869807,\n",
              " 239.52014251056298,\n",
              " -222.2080770337282,\n",
              " -240.63400044363556,\n",
              " -222.25784970604258,\n",
              " -264.44837970564646,\n",
              " -225.83240857591417,\n",
              " 267.2782222857643,\n",
              " 224.1190157253097,\n",
              " 248.4642069837363,\n",
              " -190.334703229847,\n",
              " -343.1828282222881,\n",
              " 231.24769840691843,\n",
              " 278.668522496013,\n",
              " 220.27623714548528,\n",
              " 271.7622824251156,\n",
              " -290.3510740770389,\n",
              " 242.76297062380897,\n",
              " -184.612530940574,\n",
              " -194.2969916322351,\n",
              " 237.63802139228255,\n",
              " 252.91099931134082,\n",
              " -207.39234915283134,\n",
              " -182.16923823797165,\n",
              " 236.1029457913445,\n",
              " -242.0002480266857,\n",
              " -201.8825475228112,\n",
              " 237.43393368327526,\n",
              " -216.59727941095005,\n",
              " 293.5602533767632,\n",
              " -199.181072578602,\n",
              " -287.4468207733181,\n",
              " 230.84117090114827,\n",
              " 282.8383273911732,\n",
              " 252.0289642032675,\n",
              " 222.19927211292452,\n",
              " -183.09518025878006,\n",
              " 222.7898007450502,\n",
              " -206.86110314175306,\n",
              " -206.13508659682765,\n",
              " -192.3015371475107,\n",
              " 285.79699081732304,\n",
              " 246.42939404924033,\n",
              " 223.11505914671568,\n",
              " -196.08543498119369,\n",
              " 236.59085553356775,\n",
              " -297.22276522073025,\n",
              " -182.8014933263666,\n",
              " -198.6548600583004,\n",
              " -201.34194654724007,\n",
              " 226.02955301313287,\n",
              " -184.38800243113994,\n",
              " 252.0760913703282,\n",
              " 240.4185046792735,\n",
              " 242.6978453888458,\n",
              " -219.02249521826496,\n",
              " 230.89619315882203,\n",
              " -259.2100615539511,\n",
              " -221.9930377290227,\n",
              " 231.90613982726993,\n",
              " 286.31288783205633,\n",
              " -182.79704502920453,\n",
              " -243.38481530832485,\n",
              " 266.5976920326816,\n",
              " 227.1681968046538,\n",
              " -253.5094458402806,\n",
              " 251.67599195079802,\n",
              " 227.00762677298607,\n",
              " 239.00075784141652,\n",
              " 245.40400451546375,\n",
              " -274.2271490250983,\n",
              " 271.22455250269275,\n",
              " 224.2324017123049,\n",
              " 233.58626904951458,\n",
              " -187.4463985770028,\n",
              " -193.2129236456493,\n",
              " -182.24224906148063,\n",
              " -190.23935446306913,\n",
              " 229.58069449322227,\n",
              " 279.7181334994758,\n",
              " 248.06424664107166,\n",
              " -325.1106400888187,\n",
              " 293.90300930513376,\n",
              " -243.00098664226886,\n",
              " -239.5906913429443,\n",
              " -229.45211462453352,\n",
              " 223.13221148377755,\n",
              " 241.52223359527582,\n",
              " 273.22873844610024,\n",
              " 266.542185508126,\n",
              " 272.0141615322091,\n",
              " 232.85982944160074,\n",
              " 302.4640735988507,\n",
              " -236.96001582970882,\n",
              " 256.5712155932186,\n",
              " -182.88333617957406,\n",
              " 237.78160894736618,\n",
              " 229.76767819529525,\n",
              " 246.9631662483849,\n",
              " -181.2900305735688,\n",
              " 235.4427927354583,\n",
              " -182.6106241470868,\n",
              " 261.43664512828,\n",
              " 273.0118145793293,\n",
              " 241.7287161500068,\n",
              " 255.22792906214266,\n",
              " -260.78530514038704,\n",
              " 248.39799280454147,\n",
              " 221.26921725306235,\n",
              " -194.08395251849356,\n",
              " -191.44412275049643,\n",
              " 224.09659417119016,\n",
              " -225.39816769504168,\n",
              " -224.67064262639983,\n",
              " 291.6185815285377,\n",
              " -184.7353928156814,\n",
              " 230.58515328196913,\n",
              " 333.96503729850065,\n",
              " -211.3100863280258,\n",
              " 275.46984986909166,\n",
              " -215.11231426494726,\n",
              " 272.3478546014213,\n",
              " -194.0480522441894,\n",
              " 256.52691171733676,\n",
              " -192.69435099491304,\n",
              " 225.3206633876293,\n",
              " 268.9650167194941,\n",
              " 231.00438213558567,\n",
              " -271.1548678101316,\n",
              " 311.4158152875213,\n",
              " -183.61909804512948,\n",
              " -276.1446656931754,\n",
              " 287.9670213302441,\n",
              " -236.86813731604627,\n",
              " 240.7706419859338,\n",
              " 266.4813370124141,\n",
              " -196.34117740604535,\n",
              " -183.1208828373551,\n",
              " -253.98958678525804,\n",
              " 249.53686847148157,\n",
              " 230.77694269127866,\n",
              " 300.10949115857574,\n",
              " -211.09698113190467,\n",
              " -230.16633029450531,\n",
              " 250.0541348255102,\n",
              " -183.4909172135423,\n",
              " -265.65965362373447,\n",
              " -189.85394408361833,\n",
              " 226.59745986060614,\n",
              " -198.35159510957328,\n",
              " 294.22707269704875,\n",
              " 221.39777377886355,\n",
              " -202.27590287940177,\n",
              " 251.7147780779799,\n",
              " 272.9420634650999,\n",
              " -190.27676329020443,\n",
              " 231.2200889879642,\n",
              " -234.2271982093939,\n",
              " -183.0499750337344]"
            ]
          },
          "metadata": {
            "tags": []
          },
          "execution_count": 6
        }
      ]
    },
    {
      "cell_type": "markdown",
      "metadata": {
        "id": "C_4ZQVG5D77v",
        "colab_type": "text"
      },
      "source": [
        "##Box plots Method"
      ]
    },
    {
      "cell_type": "code",
      "metadata": {
        "id": "MGBxQ5kKDprr",
        "colab_type": "code",
        "colab": {
          "base_uri": "https://localhost:8080/",
          "height": 336
        },
        "outputId": "95ce5cad-2b58-488a-cff9-f66b9b746b1c"
      },
      "source": [
        "##箱型圖法\n",
        "import seaborn as sns\n",
        "import matplotlib.pyplot as plt\n",
        "\n",
        "##畫出箱型圖\n",
        "sns.boxplot(data=data)"
      ],
      "execution_count": 7,
      "outputs": [
        {
          "output_type": "stream",
          "text": [
            "/usr/local/lib/python3.6/dist-packages/statsmodels/tools/_testing.py:19: FutureWarning: pandas.util.testing is deprecated. Use the functions in the public API at pandas.testing instead.\n",
            "  import pandas.util.testing as tm\n"
          ],
          "name": "stderr"
        },
        {
          "output_type": "execute_result",
          "data": {
            "text/plain": [
              "<matplotlib.axes._subplots.AxesSubplot at 0x7f060b9c1208>"
            ]
          },
          "metadata": {
            "tags": []
          },
          "execution_count": 7
        },
        {
          "output_type": "display_data",
          "data": {
            "image/png": "[encoded data removed]",
            "text/plain": [
              "<Figure size 432x288 with 1 Axes>"
            ]
          },
          "metadata": {
            "tags": [],
            "needs_background": "light"
          }
        }
      ]
    },
    {
      "cell_type": "markdown",
      "metadata": {
        "id": "LDmHGNiyI6br",
        "colab_type": "text"
      },
      "source": [
        "##DBSCAN密度聚類演算法\n",
        "\n",
        "\n"
      ]
    },
    {
      "cell_type": "code",
      "metadata": {
        "id": "nXKvyLADEBPF",
        "colab_type": "code",
        "colab": {
          "base_uri": "https://localhost:8080/",
          "height": 34
        },
        "outputId": "030cbccc-a923-4ccd-d9db-b292243f48d9"
      },
      "source": [
        "from sklearn.cluster import DBSCAN\n",
        "#dn表格每個維度\n",
        "data = np.random.randn(4000,2)  * 100 + 20\n",
        "\n",
        "##min_samples = The number of samples (or total weight) in a neighborhood for a point to be considered as a core point. This includes the point itself\n",
        "##eps = The maximum distance between two samples for one to be considered as in the neighborhood of the other\n",
        "outlier= DBSCAN(min_samples = 5, eps = 4).fit_predict(data)\n",
        "list(outlier).count(-1)"
      ],
      "execution_count": 14,
      "outputs": [
        {
          "output_type": "execute_result",
          "data": {
            "text/plain": [
              "3009"
            ]
          },
          "metadata": {
            "tags": []
          },
          "execution_count": 14
        }
      ]
    },
    {
      "cell_type": "markdown",
      "metadata": {
        "id": "twjFUnQNLHdr",
        "colab_type": "text"
      },
      "source": [
        "##Isolation Forest\n",
        "\n",
        "用於連續型資料的異常值檢測，其將異常定義為容易被孤立的點，意即在資料中，分布較為稀疏的部分，其發生的可能性很低，故較為稀疏部分的資料容易為異常值"
      ]
    },
    {
      "cell_type": "code",
      "metadata": {
        "id": "SjQI88w-KFQZ",
        "colab_type": "code",
        "colab": {
          "base_uri": "https://localhost:8080/",
          "height": 34
        },
        "outputId": "71cb93a7-3e9d-4daf-86ca-80a9f084a3ee"
      },
      "source": [
        "from sklearn.ensemble import IsolationForest\n",
        "import numpy as np\n",
        "##產生亂數\n",
        "data = np.random.randn(4000,2)  * 100 + 20\n",
        "##使用套件\n",
        "##contamination = 資料被汙染的數量，eg:離群值在資料集內的比例\n",
        "## max_samples = 抓取多少樣本來訓練\n",
        "Outlier= IsolationForest(max_samples=100, random_state = 1, contamination= 'auto')\n",
        "prediction = Outlier.fit_predict(data)\n",
        "prediction \n",
        "'''\n",
        "result \n",
        "-1 = 異常值\n",
        "1 = 非異常值\n",
        "'''"
      ],
      "execution_count": 18,
      "outputs": [
        {
          "output_type": "execute_result",
          "data": {
            "text/plain": [
              "array([ 1, -1,  1, ...,  1, -1,  1])"
            ]
          },
          "metadata": {
            "tags": []
          },
          "execution_count": 18
        }
      ]
    }
  ]
}