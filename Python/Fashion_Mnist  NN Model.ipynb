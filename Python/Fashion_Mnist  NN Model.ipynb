{
  "nbformat": 4,
  "nbformat_minor": 0,
  "metadata": {
    "colab": {
      "name": "Fashion_Mnist.ipynb",
      "provenance": [],
      "collapsed_sections": []
    },
    "kernelspec": {
      "name": "python3",
      "display_name": "Python 3"
    },
    "accelerator": "GPU"
  },
  "cells": [
    {
      "cell_type": "code",
      "metadata": {
        "id": "pYXL31NLmUf9",
        "colab_type": "code",
        "outputId": "9d55cc4e-84f5-4a09-ee1e-ee44fc276822",
        "colab": {
          "base_uri": "https://localhost:8080/",
          "height": 106
        }
      },
      "source": [
        "%tensorflow_version \n",
        "%tensorflow_version 2.x"
      ],
      "execution_count": 1,
      "outputs": [
        {
          "output_type": "stream",
          "text": [
            "Currently selected TF version: 1.x\n",
            "Available versions:\n",
            "* 1.x\n",
            "* 2.x\n",
            "TensorFlow 2.x selected.\n"
          ],
          "name": "stdout"
        }
      ]
    },
    {
      "cell_type": "code",
      "metadata": {
        "id": "nJUmM3vRmeVv",
        "colab_type": "code",
        "colab": {}
      },
      "source": [
        "%matplotlib inline\n",
        "\n",
        "\n",
        "import numpy as np\n",
        "import tensorflow as tf\n",
        "import matplotlib.pyplot as plt"
      ],
      "execution_count": 0,
      "outputs": []
    },
    {
      "cell_type": "code",
      "metadata": {
        "id": "ZPzoXox1meZz",
        "colab_type": "code",
        "colab": {
          "base_uri": "https://localhost:8080/",
          "height": 159
        },
        "outputId": "bf930bc2-bf5d-4c96-de65-8c57fb28d9bd"
      },
      "source": [
        "##從tensorflow keras datasets中抓出fashion mnist\n",
        "from tensorflow.keras.datasets import fashion_mnist\n",
        "from tensorflow.keras.utils import to_categorical\n",
        "from sklearn.model_selection import KFold\n",
        "##讀取資料\n",
        "(train_images, train_labels), (test_images, test_labels) = fashion_mnist.load_data()"
      ],
      "execution_count": 3,
      "outputs": [
        {
          "output_type": "stream",
          "text": [
            "Downloading data from https://storage.googleapis.com/tensorflow/tf-keras-datasets/train-labels-idx1-ubyte.gz\n",
            "32768/29515 [=================================] - 0s 0us/step\n",
            "Downloading data from https://storage.googleapis.com/tensorflow/tf-keras-datasets/train-images-idx3-ubyte.gz\n",
            "26427392/26421880 [==============================] - 1s 0us/step\n",
            "Downloading data from https://storage.googleapis.com/tensorflow/tf-keras-datasets/t10k-labels-idx1-ubyte.gz\n",
            "8192/5148 [===============================================] - 0s 0us/step\n",
            "Downloading data from https://storage.googleapis.com/tensorflow/tf-keras-datasets/t10k-images-idx3-ubyte.gz\n",
            "4423680/4422102 [==============================] - 0s 0us/step\n"
          ],
          "name": "stdout"
        }
      ]
    },
    {
      "cell_type": "code",
      "metadata": {
        "id": "uGQxb5DZmed-",
        "colab_type": "code",
        "outputId": "ac84fd2d-5a3b-4452-c742-b00107e23669",
        "colab": {
          "base_uri": "https://localhost:8080/",
          "height": 88
        }
      },
      "source": [
        "print(\n",
        "    \"train images length :\",len(train_images),\n",
        "    \"\\ntrain labels length :\",len(train_labels),\n",
        "    \"\\ntest images length  :\",len(test_images),\n",
        "    \"\\ntest labels length  :\",len(test_labels))"
      ],
      "execution_count": 4,
      "outputs": [
        {
          "output_type": "stream",
          "text": [
            "train images length : 60000 \n",
            "train labels length : 60000 \n",
            "test images length  : 10000 \n",
            "test labels length  : 10000\n"
          ],
          "name": "stdout"
        }
      ]
    },
    {
      "cell_type": "code",
      "metadata": {
        "id": "WSEcZ0njqwD1",
        "colab_type": "code",
        "outputId": "d1b4b026-ac88-4fab-fc26-2a4b7db3c416",
        "colab": {
          "base_uri": "https://localhost:8080/",
          "height": 254
        }
      },
      "source": [
        "##definite a funciton to see  pictures\n",
        "\n",
        "def graph_show_and_find_the_max_value(n):\n",
        "    f,(ax1, ax2) = plt.subplots(1,2, sharey=True)\n",
        "    ax1.imshow(train_images[n],cmap='Greys')\n",
        "    ax2.imshow(test_images[n],cmap ='Greys')\n",
        "    max_value_images=np.amax(train_images)\n",
        "    max_value_labels=max(train_labels)\n",
        "    shape = train_images.shape\n",
        "    print(\"train images max value  :\" , max_value_images,\n",
        "          \"\\ntrain value max label :\",max_value_labels,\n",
        "          \"\\nshape :\" , shape)\n",
        "\n",
        "\n",
        "\n",
        "##check function can work \n",
        "graph_show_and_find_the_max_value(56)\n"
      ],
      "execution_count": 5,
      "outputs": [
        {
          "output_type": "stream",
          "text": [
            "train images max value  : 255 \n",
            "train value max label : 9 \n",
            "shape : (60000, 28, 28)\n"
          ],
          "name": "stdout"
        },
        {
          "output_type": "display_data",
          "data": {
            "image/png": "[encoded data removed]",
            "text/plain": [
              "<Figure size 432x288 with 2 Axes>"
            ]
          },
          "metadata": {
            "tags": []
          }
        }
      ]
    },
    {
      "cell_type": "code",
      "metadata": {
        "id": "OT9yx_YO_o25",
        "colab_type": "code",
        "colab": {}
      },
      "source": [
        "##reshape datasets \n",
        "def reshape_data(dataset1,dataset2,dataset3):\n",
        "    shape =dataset1.shape\n",
        "    max_value_images=np.amax(dataset1)\n",
        "    x_train=dataset1.reshape(shape[0],shape[1]*shape[2])/max_value_images\n",
        "    shape2 =dataset2.shape\n",
        "    max_value_images2=np.amax(dataset2)\n",
        "    validation_train=dataset2.reshape(shape2[0],shape2[1]*shape2[2])/max_value_images2\n",
        "    shape3 =dataset3.shape\n",
        "    max_value_images3=np.amax(dataset3)\n",
        "    test_train=dataset3.reshape(shape3[0],shape2[1]*shape3[2])/max_value_images3\n",
        "    return x_train,validation_train,test_train"
      ],
      "execution_count": 0,
      "outputs": []
    },
    {
      "cell_type": "code",
      "metadata": {
        "id": "qxB8Azxl9MoU",
        "colab_type": "code",
        "colab": {}
      },
      "source": [
        "##Splite validation and train datasets \n",
        "x_training = train_images[0:50000,:]\n",
        "x_validation = train_images[50001:60000,:]\n",
        "\n",
        "y_training = train_labels[0:50000,]\n",
        "y_validation =  train_labels[50001:60000,]"
      ],
      "execution_count": 0,
      "outputs": []
    },
    {
      "cell_type": "code",
      "metadata": {
        "id": "vzAYLwU49Mt-",
        "colab_type": "code",
        "colab": {}
      },
      "source": [
        "x_train,x_val,x_test=reshape_data(x_training,x_validation,test_images)"
      ],
      "execution_count": 0,
      "outputs": []
    },
    {
      "cell_type": "code",
      "metadata": {
        "id": "fX20cxtKDBrs",
        "colab_type": "code",
        "colab": {}
      },
      "source": [
        "#def categorical(dataset1,dataset2):\n",
        "  #category1 = len(np.unique(dataset1))\n",
        "  #category2 = len(np.unique(dataset2))\n",
        "  #x_label = to_categorical(dataset1,category1)\n",
        "  #val_label = to_categorical(dataset2,category2)\n",
        "  #return x_label , val_label\n",
        "\n",
        "#train_label,val_label =categorical(y_training ,y_validation)"
      ],
      "execution_count": 0,
      "outputs": []
    },
    {
      "cell_type": "code",
      "metadata": {
        "id": "XkmJYqffAxP0",
        "colab_type": "code",
        "colab": {
          "base_uri": "https://localhost:8080/",
          "height": 337
        },
        "outputId": "1d6a1558-b452-4c3c-bb6d-2ff0bfbbd5ec"
      },
      "source": [
        "from tensorflow.keras.models import Sequential\n",
        "from tensorflow.keras.layers import Dense\n",
        "from tensorflow.keras.optimizers import SGD\n",
        "from tensorflow.keras.layers import Flatten\n",
        "\n",
        "\n",
        "\n",
        "#######       Model \n",
        "#1.修改神經元數量\n",
        "#2.修改batch_size數\n",
        "#3.修改epochs數\n",
        "#4.修改optimizer變成adam\n",
        "#5.loss變成sparse_categorical_crossentropy\n",
        "#6.kernel_initializer變成he_uniform\n",
        "\n",
        "element = 150\n",
        "input_dimension = 784\n",
        "activation_function = \"relu\"\n",
        "num_classes = 10\n",
        "out_activation_function = \"softmax\"\n",
        "batch_size = 200\n",
        "epochs = 25\n",
        "#, kernel_initializer='he_uniform'\n",
        "\n",
        "def model_building():\n",
        "    model = Sequential() \n",
        "    model.add(Dense(element,input_dim = input_dimension,activation =activation_function, kernel_initializer='he_uniform'))\n",
        "    model.add(Dense(element,activation = activation_function))\n",
        "    model.add(Dense(element,activation = activation_function))\n",
        "    model.add(Dense(element,activation = activation_function, kernel_initializer='he_uniform'))\n",
        "    model.add(Dense(num_classes,activation=out_activation_function))\n",
        "    model.compile(loss='sparse_categorical_crossentropy',optimizer='adam',metrics=['accuracy']) \n",
        "    return model\n",
        "\n",
        "\n",
        "model = model_building()\n",
        "model.summary()"
      ],
      "execution_count": 76,
      "outputs": [
        {
          "output_type": "stream",
          "text": [
            "Model: \"sequential_22\"\n",
            "_________________________________________________________________\n",
            "Layer (type)                 Output Shape              Param #   \n",
            "=================================================================\n",
            "dense_92 (Dense)             (None, 150)               117750    \n",
            "_________________________________________________________________\n",
            "dense_93 (Dense)             (None, 150)               22650     \n",
            "_________________________________________________________________\n",
            "dense_94 (Dense)             (None, 150)               22650     \n",
            "_________________________________________________________________\n",
            "dense_95 (Dense)             (None, 150)               22650     \n",
            "_________________________________________________________________\n",
            "dense_96 (Dense)             (None, 10)                1510      \n",
            "=================================================================\n",
            "Total params: 187,210\n",
            "Trainable params: 187,210\n",
            "Non-trainable params: 0\n",
            "_________________________________________________________________\n"
          ],
          "name": "stdout"
        }
      ]
    },
    {
      "cell_type": "code",
      "metadata": {
        "id": "TkYlI8vUAxZV",
        "colab_type": "code",
        "outputId": "f9b25c66-6951-48bd-8490-afb58baad887",
        "colab": {
          "base_uri": "https://localhost:8080/",
          "height": 906
        }
      },
      "source": [
        "independent_variable = x_train\n",
        "dependent_variable = y_training\n",
        "\n",
        "model_result= model.fit(independent_variable,dependent_variable,validation_data=(x_val,y_validation),batch_size= batch_size ,epochs=epochs)"
      ],
      "execution_count": 77,
      "outputs": [
        {
          "output_type": "stream",
          "text": [
            "Epoch 1/25\n",
            "250/250 [==============================] - 1s 3ms/step - loss: 0.5735 - accuracy: 0.7995 - val_loss: 0.4370 - val_accuracy: 0.8465\n",
            "Epoch 2/25\n",
            "250/250 [==============================] - 1s 3ms/step - loss: 0.3876 - accuracy: 0.8597 - val_loss: 0.3977 - val_accuracy: 0.8507\n",
            "Epoch 3/25\n",
            "250/250 [==============================] - 1s 3ms/step - loss: 0.3508 - accuracy: 0.8693 - val_loss: 0.3776 - val_accuracy: 0.8621\n",
            "Epoch 4/25\n",
            "250/250 [==============================] - 1s 3ms/step - loss: 0.3147 - accuracy: 0.8843 - val_loss: 0.3506 - val_accuracy: 0.8737\n",
            "Epoch 5/25\n",
            "250/250 [==============================] - 1s 3ms/step - loss: 0.2961 - accuracy: 0.8893 - val_loss: 0.3341 - val_accuracy: 0.8787\n",
            "Epoch 6/25\n",
            "250/250 [==============================] - 1s 3ms/step - loss: 0.2848 - accuracy: 0.8942 - val_loss: 0.3224 - val_accuracy: 0.8845\n",
            "Epoch 7/25\n",
            "250/250 [==============================] - 1s 3ms/step - loss: 0.2632 - accuracy: 0.9016 - val_loss: 0.3188 - val_accuracy: 0.8862\n",
            "Epoch 8/25\n",
            "250/250 [==============================] - 1s 3ms/step - loss: 0.2540 - accuracy: 0.9054 - val_loss: 0.3446 - val_accuracy: 0.8782\n",
            "Epoch 9/25\n",
            "250/250 [==============================] - 1s 3ms/step - loss: 0.2480 - accuracy: 0.9070 - val_loss: 0.3417 - val_accuracy: 0.8801\n",
            "Epoch 10/25\n",
            "250/250 [==============================] - 1s 3ms/step - loss: 0.2352 - accuracy: 0.9107 - val_loss: 0.3278 - val_accuracy: 0.8825\n",
            "Epoch 11/25\n",
            "250/250 [==============================] - 1s 3ms/step - loss: 0.2258 - accuracy: 0.9149 - val_loss: 0.3239 - val_accuracy: 0.8874\n",
            "Epoch 12/25\n",
            "250/250 [==============================] - 1s 3ms/step - loss: 0.2192 - accuracy: 0.9178 - val_loss: 0.3342 - val_accuracy: 0.8871\n",
            "Epoch 13/25\n",
            "250/250 [==============================] - 1s 3ms/step - loss: 0.2114 - accuracy: 0.9204 - val_loss: 0.3185 - val_accuracy: 0.8882\n",
            "Epoch 14/25\n",
            "250/250 [==============================] - 1s 3ms/step - loss: 0.2033 - accuracy: 0.9234 - val_loss: 0.3319 - val_accuracy: 0.8886\n",
            "Epoch 15/25\n",
            "250/250 [==============================] - 1s 3ms/step - loss: 0.1966 - accuracy: 0.9259 - val_loss: 0.3172 - val_accuracy: 0.8860\n",
            "Epoch 16/25\n",
            "250/250 [==============================] - 1s 3ms/step - loss: 0.1884 - accuracy: 0.9294 - val_loss: 0.3181 - val_accuracy: 0.8930\n",
            "Epoch 17/25\n",
            "250/250 [==============================] - 1s 3ms/step - loss: 0.1808 - accuracy: 0.9310 - val_loss: 0.3535 - val_accuracy: 0.8859\n",
            "Epoch 18/25\n",
            "250/250 [==============================] - 1s 3ms/step - loss: 0.1780 - accuracy: 0.9318 - val_loss: 0.3408 - val_accuracy: 0.8889\n",
            "Epoch 19/25\n",
            "250/250 [==============================] - 1s 3ms/step - loss: 0.1757 - accuracy: 0.9323 - val_loss: 0.3282 - val_accuracy: 0.8932\n",
            "Epoch 20/25\n",
            "250/250 [==============================] - 1s 3ms/step - loss: 0.1659 - accuracy: 0.9358 - val_loss: 0.3396 - val_accuracy: 0.8943\n",
            "Epoch 21/25\n",
            "250/250 [==============================] - 1s 3ms/step - loss: 0.1579 - accuracy: 0.9399 - val_loss: 0.3473 - val_accuracy: 0.8926\n",
            "Epoch 22/25\n",
            "250/250 [==============================] - 1s 3ms/step - loss: 0.1542 - accuracy: 0.9411 - val_loss: 0.3588 - val_accuracy: 0.8877\n",
            "Epoch 23/25\n",
            "250/250 [==============================] - 1s 3ms/step - loss: 0.1490 - accuracy: 0.9423 - val_loss: 0.3531 - val_accuracy: 0.8922\n",
            "Epoch 24/25\n",
            "250/250 [==============================] - 1s 3ms/step - loss: 0.1481 - accuracy: 0.9441 - val_loss: 0.3618 - val_accuracy: 0.8925\n",
            "Epoch 25/25\n",
            "250/250 [==============================] - 1s 3ms/step - loss: 0.1389 - accuracy: 0.9467 - val_loss: 0.3540 - val_accuracy: 0.8939\n"
          ],
          "name": "stdout"
        }
      ]
    },
    {
      "cell_type": "code",
      "metadata": {
        "id": "lDjQIswEEARF",
        "colab_type": "code",
        "outputId": "9ed4c3fd-f253-4d49-97ec-b5db780d892a",
        "colab": {
          "base_uri": "https://localhost:8080/",
          "height": 573
        }
      },
      "source": [
        "# summarize history for accuracy\n",
        "plt.plot(model_result.history['accuracy'])\n",
        "plt.plot(model_result.history['val_accuracy'])\n",
        "plt.title('model accuracy')\n",
        "plt.ylabel('accuracy')\n",
        "plt.xlabel('epoch')\n",
        "plt.legend(['train', 'test'], loc='upper left')\n",
        "plt.show()\n",
        "# summarize history for loss\n",
        "plt.plot(model_result.history['loss'])\n",
        "plt.plot(model_result.history['val_loss'])\n",
        "plt.title('model loss')\n",
        "plt.ylabel('loss')\n",
        "plt.xlabel('epoch')\n",
        "plt.legend(['train', 'test'], loc='upper left')\n",
        "plt.show()"
      ],
      "execution_count": 78,
      "outputs": [
        {
          "output_type": "display_data",
          "data": {
            "image/png": "[encoded data removed]",
            "text/plain": [
              "<Figure size 432x288 with 1 Axes>"
            ]
          },
          "metadata": {
            "tags": []
          }
        },
        {
          "output_type": "display_data",
          "data": {
            "image/png": "[encoded data removed]",
            "text/plain": [
              "<Figure size 432x288 with 1 Axes>"
            ]
          },
          "metadata": {
            "tags": []
          }
        }
      ]
    },
    {
      "cell_type": "code",
      "metadata": {
        "id": "PJyF9AHeMOww",
        "colab_type": "code",
        "outputId": "fe37d264-a9f2-4fdb-daae-16ce9cb1f8e3",
        "colab": {
          "base_uri": "https://localhost:8080/",
          "height": 621
        }
      },
      "source": [
        "##Model 1 prediction \n",
        "\n",
        "from sklearn import metrics\n",
        "result = model.predict_classes(x_test)\n",
        "print('\\n\\n the result \\n\\n Confusion Matrix\\n\\n',metrics.confusion_matrix(result, test_labels))\n",
        "print(\"\\n\",metrics.classification_report(result, test_labels, digits=3))"
      ],
      "execution_count": 79,
      "outputs": [
        {
          "output_type": "stream",
          "text": [
            "\n",
            "\n",
            " the result \n",
            "\n",
            " Confusion Matrix\n",
            "\n",
            " [[874   3  18  28   2   0 143   0   5   0]\n",
            " [  1 975   0  10   0   0   1   0   0   0]\n",
            " [ 17   3 831  18  94   0  92   0   3   0]\n",
            " [ 17  10   9 864  24   0  21   0   5   0]\n",
            " [  3   3  79  45 814   0  57   0   1   0]\n",
            " [  4   0   0   1   1 976   0  24  13   8]\n",
            " [ 78   3  61  29  64   0 677   0   3   1]\n",
            " [  0   0   0   0   0  10   0 936   4  24]\n",
            " [  6   3   2   5   1   0   9   0 966   0]\n",
            " [  0   0   0   0   0  14   0  40   0 967]]\n",
            "\n",
            "               precision    recall  f1-score   support\n",
            "\n",
            "           0      0.874     0.815     0.843      1073\n",
            "           1      0.975     0.988     0.981       987\n",
            "           2      0.831     0.785     0.808      1058\n",
            "           3      0.864     0.909     0.886       950\n",
            "           4      0.814     0.812     0.813      1002\n",
            "           5      0.976     0.950     0.963      1027\n",
            "           6      0.677     0.739     0.707       916\n",
            "           7      0.936     0.961     0.948       974\n",
            "           8      0.966     0.974     0.970       992\n",
            "           9      0.967     0.947     0.957      1021\n",
            "\n",
            "    accuracy                          0.888     10000\n",
            "   macro avg      0.888     0.888     0.888     10000\n",
            "weighted avg      0.890     0.888     0.888     10000\n",
            "\n"
          ],
          "name": "stdout"
        }
      ]
    }
  ]
}