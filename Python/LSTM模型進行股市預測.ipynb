{
  "nbformat": 4,
  "nbformat_minor": 0,
  "metadata": {
    "colab": {
      "name": "大數據期末報告.ipynb",
      "provenance": [],
      "collapsed_sections": []
    },
    "kernelspec": {
      "name": "python3",
      "display_name": "Python 3"
    }
  },
  "cells": [
    {
      "cell_type": "code",
      "metadata": {
        "id": "nXtXNna_MJ2L",
        "colab": {
          "base_uri": "https://localhost:8080/",
          "height": 82
        },
        "outputId": "1d6bc990-ff36-4812-b24c-e8cd7ddcb8fa"
      },
      "source": [
        "import numpy as np\n",
        "import pandas as pd\n",
        "from math import sqrt\n",
        "from numpy import concatenate\n",
        "from matplotlib import pyplot\n",
        "from pandas import read_csv\n",
        "from pandas import DataFrame\n",
        "from pandas import concat\n",
        "from sklearn.preprocessing import MinMaxScaler\n",
        "from sklearn.preprocessing import LabelEncoder\n",
        "from sklearn.metrics import mean_squared_error\n",
        "from keras.models import Sequential\n",
        "from keras.layers import Dense\n",
        "from keras.layers import LSTM\n",
        "from keras.layers import Dropout\n",
        "from keras.layers import Lambda\n",
        "import matplotlib.pyplot as plt\n",
        "import seaborn as sns\n",
        "from keras import models    \n",
        "from keras.models import load_model\n",
        "from sklearn import metrics\n",
        "#import tensorflow as tf\n",
        "#import os \n",
        "#from os import listdir\n",
        "#from os.path import isfile, isdir, join\n",
        "#from sklearn.model_selection import  train_test_split\n",
        "#from keras.layers.core import RepeatVector\n",
        "#from keras.layers import TimeDistributed\n",
        "#from keras.layers import Flatten\n",
        "#from sklearn.preprocessing import StandardScaler\n"
      ],
      "execution_count": null,
      "outputs": [
        {
          "output_type": "stream",
          "text": [
            "Using TensorFlow backend.\n"
          ],
          "name": "stderr"
        },
        {
          "output_type": "display_data",
          "data": {
            "text/html": [
              "<p style=\"color: red;\">\n",
              "The default version of TensorFlow in Colab will soon switch to TensorFlow 2.x.<br>\n",
              "We recommend you <a href=\"https://www.tensorflow.org/guide/migrate\" target=\"_blank\">upgrade</a> now \n",
              "or ensure your notebook will continue to use TensorFlow 1.x via the <code>%tensorflow_version 1.x</code> magic:\n",
              "<a href=\"https://colab.research.google.com/notebooks/tensorflow_version.ipynb\" target=\"_blank\">more info</a>.</p>\n"
            ],
            "text/plain": [
              "<IPython.core.display.HTML object>"
            ]
          },
          "metadata": {
            "tags": []
          }
        }
      ]
    },
    {
      "cell_type": "code",
      "metadata": {
        "id": "fjk8aS5NMNHx"
      },
      "source": [
        "letterList = [\"A\",\"B\",\"C\",\"D\",\"E\"]\n",
        "\n",
        "def data_clean(List):\n",
        "  data_all =pd.DataFrame()\n",
        "  training=pd.DataFrame()\n",
        "  testing=pd.DataFrame()\n",
        "  validation=pd.DataFrame()\n",
        "  for f in List:\n",
        "    #data= open(path+\"/\"+f)\n",
        "    names = ''.join([f+\".xlsx\"])\n",
        "    data = pd.read_excel(names)\n",
        "    ##修改資料名稱\n",
        "    data.rename(columns={'Unnamed: 0':'time'}, inplace=True)\n",
        "    data.rename(columns={'Unnamed: 1':'stock_price'}, inplace=True)\n",
        "    data.columns = [col.replace('-', '') for col in data.columns]\n",
        "    ##遠端\n",
        "    #data.reset_index(inplace=True) \n",
        "    #data.rename(columns={'level_0':'time'}, inplace=True)\n",
        "    #data.rename(columns={'level_1':'stock_price'}, inplace=True)\n",
        "    ##增加股票代碼\n",
        "    data['stock_ticker']=pd.DataFrame(np.repeat(ord(f.lower()) - 96,data.shape[0],axis=0))\n",
        "    columns = data.columns\n",
        "    data = data.reindex(columns=columns)\n",
        "    ##lag1期\n",
        "    #data[\"lag_stock_price\"]=data[\"stock_price\"].shift(1)\n",
        "    ##挑出要使用的變數\n",
        "    data=data[['time', 'stock_price', 'stock_ticker','  DIVIDEND YIELD','  ASK PRICE', '  BID PRICE', '  PRICE HIGH', '  PRICE LOW']]\n",
        "    ##imputation using previous value \n",
        "    data=data.fillna(method='pad')##filling the missing data with previous one\n",
        "    ##拆分資料\n",
        "    train=len(data)-400\n",
        "    test_len=len(data)-51\n",
        "    ##train\n",
        "    tx_data=data.iloc[:train,:]\n",
        "    ##validation\n",
        "    validation_data=data.iloc[train:test_len,:]\n",
        "    ##test\n",
        "    tex_data=data.iloc[test_len:,:]\n",
        "    ##train apppend\n",
        "    training = training.append(tx_data)\n",
        "    ##validation append\n",
        "    validation= validation.append(validation_data)\n",
        "    ##test append\n",
        "    testing = testing.append(tex_data)\n",
        "    ##all data set append \n",
        "    data_all = data_all.append(data) \n",
        "  return data_all ,testing,training,validation"
      ],
      "execution_count": null,
      "outputs": []
    },
    {
      "cell_type": "code",
      "metadata": {
        "id": "MFYYs58nQ3qp"
      },
      "source": [
        "##by the stock ticker to splite data \n",
        "\n",
        "def splite_data(data):\n",
        "  A=data[data[1]==0.0]\n",
        "  B=data[data[1]==1.0]\n",
        "  C=data[data[1]==2.0]\n",
        "  D=data[data[1]==3.0]\n",
        "  E=data[data[1]==4.0]\n",
        "  return A, B, C, D, E  "
      ],
      "execution_count": null,
      "outputs": []
    },
    {
      "cell_type": "code",
      "metadata": {
        "id": "I0adQPwZMNT5"
      },
      "source": [
        "##gen  dataset\n",
        "data_all,testing,training,validations=data_clean(letterList)"
      ],
      "execution_count": null,
      "outputs": []
    },
    {
      "cell_type": "code",
      "metadata": {
        "id": "aBIKWCZQScad",
        "colab": {
          "base_uri": "https://localhost:8080/",
          "height": 177
        },
        "outputId": "ae07be1c-dcf2-434a-eefb-0dec31c0d7b1"
      },
      "source": [
        "##check the data don't have null\n",
        "data_all.isnull().sum()\n",
        "\n",
        "##visualize\n",
        "#fig, axes = plt.subplots(2,3)\n",
        "#plt.figure()\n",
        "#plt.plot(training['time'],training['stock_price'])\n",
        "#plt.plot(training['time'],training['  DIVIDEND YIELD'])\n",
        "#plt.plot(training['time'],training['  BID PRICE'])\n",
        "#plt.plot(training['time'],training['  PRICE HIGH'])\n",
        "#plt.plot(training['time'],training['  PRICE LOW'])\n",
        "#plt.plot(training['time'],training['  ASK PRICE'])\n",
        "#plt.title('stock price history')\n",
        "#plt.ylabel('Price (TWD)')\n",
        "#plt.xlabel('Days')\n",
        "#plt.legend(['stock_price','DIVIDEND YIELD','BID PRICE','PRICE HIGH','PRICE LOW','ASK PRICE'], loc='upper left')\n",
        "#plt.show()\n"
      ],
      "execution_count": null,
      "outputs": [
        {
          "output_type": "execute_result",
          "data": {
            "text/plain": [
              "time                0\n",
              "stock_price         0\n",
              "stock_ticker        0\n",
              "  DIVIDEND YIELD    0\n",
              "  ASK PRICE         0\n",
              "  BID PRICE         0\n",
              "  PRICE HIGH        0\n",
              "  PRICE LOW         0\n",
              "dtype: int64"
            ]
          },
          "metadata": {
            "tags": []
          },
          "execution_count": 5
        }
      ]
    },
    {
      "cell_type": "code",
      "metadata": {
        "id": "8erTsy1vKayt",
        "colab": {
          "base_uri": "https://localhost:8080/",
          "height": 407
        },
        "outputId": "d6f0c9db-d54f-4443-cbad-eb44a3f22664"
      },
      "source": [
        "##visualize\n",
        "# plot lines \n",
        "sns.relplot(x=\"time\", y=\"stock_price\",kind=\"line\",  \n",
        "            col='stock_ticker',\n",
        "            hue='stock_ticker',\n",
        "            data=training)"
      ],
      "execution_count": null,
      "outputs": [
        {
          "output_type": "execute_result",
          "data": {
            "text/plain": [
              "<seaborn.axisgrid.FacetGrid at 0x7fb035fab860>"
            ]
          },
          "metadata": {
            "tags": []
          },
          "execution_count": 8
        },
        {
          "output_type": "display_data",
          "data": {
            "image/png": "[encoded data removed]",
            "text/plain": [
              "<Figure size 1895.62x360 with 5 Axes>"
            ]
          },
          "metadata": {
            "tags": []
          }
        }
      ]
    },
    {
      "cell_type": "code",
      "metadata": {
        "id": "gIRi9nZ5zEmX",
        "colab": {
          "base_uri": "https://localhost:8080/",
          "height": 551
        },
        "outputId": "0d384cc5-e7d1-4123-bd44-2457f793979a"
      },
      "source": [
        "x_1=data_all.loc[data_all['stock_ticker']==1, ['stock_price']]\n",
        "x_2=data_all.loc[data_all['stock_ticker']==2, ['stock_price']]\n",
        "x_3=data_all.loc[data_all['stock_ticker']==3, ['stock_price']]\n",
        "x_4=data_all.loc[data_all['stock_ticker']==4, ['stock_price']]\n",
        "x_5=data_all.loc[data_all['stock_ticker']==5, ['stock_price']]\n",
        "y=data_all.loc[data_all['stock_ticker']==1, ['time']]\n",
        "\n",
        "# plot density\n",
        "fig, axes = plt.subplots(2, 3, figsize=(10, 6), sharey=True, dpi=100)\n",
        "sns.distplot(x_1 , color=\"dodgerblue\", ax=axes[0][0], axlabel='stock_ticker:A')\n",
        "sns.distplot(x_2 , color=\"gold\", ax=axes[0][1], axlabel='stock_ticker:B')\n",
        "sns.distplot(x_3 , color=\"red\", ax=axes[0][2], axlabel='stock_ticker:C')\n",
        "sns.distplot(x_4 , color=\"green\", ax=axes[1][0], axlabel='stock_ticker:D')\n",
        "sns.distplot(x_5 , color=\"purple\", ax=axes[1][1], axlabel='stock_ticker:E')"
      ],
      "execution_count": null,
      "outputs": [
        {
          "output_type": "execute_result",
          "data": {
            "text/plain": [
              "<matplotlib.axes._subplots.AxesSubplot at 0x7fb035ef6cc0>"
            ]
          },
          "metadata": {
            "tags": []
          },
          "execution_count": 9
        },
        {
          "output_type": "display_data",
          "data": {
            "image/png": "[encoded data removed]",
            "text/plain": [
              "<Figure size 1000x600 with 6 Axes>"
            ]
          },
          "metadata": {
            "tags": []
          }
        }
      ]
    },
    {
      "cell_type": "code",
      "metadata": {
        "id": "MSQrf7GGz_dV",
        "colab": {
          "base_uri": "https://localhost:8080/",
          "height": 298
        },
        "outputId": "3618ea9c-d7fd-4b0a-d109-b7a3ec7bdc71"
      },
      "source": [
        "x_1=data_all.loc[data_all['stock_ticker']==1, ['stock_price']]\n",
        "x_2=data_all.loc[data_all['stock_ticker']==2, ['stock_price']]\n",
        "x_3=data_all.loc[data_all['stock_ticker']==3, ['stock_price']]\n",
        "x_4=data_all.loc[data_all['stock_ticker']==4, ['stock_price']]\n",
        "x_5=data_all.loc[data_all['stock_ticker']==5, ['stock_price']]\n",
        "y=data_all.loc[data_all['stock_ticker']==1, ['time']]\n",
        "sns.distplot(x_1 , color=\"dodgerblue\", axlabel='stock_ticker:A')"
      ],
      "execution_count": null,
      "outputs": [
        {
          "output_type": "execute_result",
          "data": {
            "text/plain": [
              "<matplotlib.axes._subplots.AxesSubplot at 0x7f3907f5f1d0>"
            ]
          },
          "metadata": {
            "tags": []
          },
          "execution_count": 6
        },
        {
          "output_type": "display_data",
          "data": {
            "image/png": "[encoded data removed]",
            "text/plain": [
              "<Figure size 432x288 with 1 Axes>"
            ]
          },
          "metadata": {
            "tags": []
          }
        }
      ]
    },
    {
      "cell_type": "code",
      "metadata": {
        "id": "Jq4S6KpZ0DIH",
        "colab": {
          "base_uri": "https://localhost:8080/",
          "height": 298
        },
        "outputId": "ac8d75ee-9739-4ed8-8c1f-27c5f2bb18ef"
      },
      "source": [
        "sns.distplot(x_2 , color=\"gold\", axlabel='stock_ticker:B')"
      ],
      "execution_count": null,
      "outputs": [
        {
          "output_type": "execute_result",
          "data": {
            "text/plain": [
              "<matplotlib.axes._subplots.AxesSubplot at 0x7f39085adfd0>"
            ]
          },
          "metadata": {
            "tags": []
          },
          "execution_count": 7
        },
        {
          "output_type": "display_data",
          "data": {
            "image/png": "[encoded data removed]",
            "text/plain": [
              "<Figure size 432x288 with 1 Axes>"
            ]
          },
          "metadata": {
            "tags": []
          }
        }
      ]
    },
    {
      "cell_type": "code",
      "metadata": {
        "id": "gREZzcQB0DQ1",
        "colab": {
          "base_uri": "https://localhost:8080/",
          "height": 298
        },
        "outputId": "553d8c0b-2e11-4342-e5ea-35a198ca76e3"
      },
      "source": [
        "sns.distplot(x_3 , color=\"red\", axlabel='stock_ticker:C')"
      ],
      "execution_count": null,
      "outputs": [
        {
          "output_type": "execute_result",
          "data": {
            "text/plain": [
              "<matplotlib.axes._subplots.AxesSubplot at 0x7f39086d5550>"
            ]
          },
          "metadata": {
            "tags": []
          },
          "execution_count": 8
        },
        {
          "output_type": "display_data",
          "data": {
            "image/png": "[encoded data removed]",
            "text/plain": [
              "<Figure size 432x288 with 1 Axes>"
            ]
          },
          "metadata": {
            "tags": []
          }
        }
      ]
    },
    {
      "cell_type": "code",
      "metadata": {
        "id": "QAlPVb6P0DWu",
        "colab": {
          "base_uri": "https://localhost:8080/",
          "height": 298
        },
        "outputId": "5d66d5cf-45e0-4432-82c8-d2855746f640"
      },
      "source": [
        "sns.distplot(x_4 , color=\"green\", axlabel='stock_ticker:D')"
      ],
      "execution_count": null,
      "outputs": [
        {
          "output_type": "execute_result",
          "data": {
            "text/plain": [
              "<matplotlib.axes._subplots.AxesSubplot at 0x7f3907f19668>"
            ]
          },
          "metadata": {
            "tags": []
          },
          "execution_count": 9
        },
        {
          "output_type": "display_data",
          "data": {
            "image/png": "[encoded data removed]",
            "text/plain": [
              "<Figure size 432x288 with 1 Axes>"
            ]
          },
          "metadata": {
            "tags": []
          }
        }
      ]
    },
    {
      "cell_type": "code",
      "metadata": {
        "id": "EbddUw0n0DoM",
        "colab": {
          "base_uri": "https://localhost:8080/",
          "height": 298
        },
        "outputId": "0dae6ada-8727-4446-b7ed-cec62fb3704c"
      },
      "source": [
        "sns.distplot(x_5 , color=\"purple\", axlabel='stock_ticker:E')"
      ],
      "execution_count": null,
      "outputs": [
        {
          "output_type": "execute_result",
          "data": {
            "text/plain": [
              "<matplotlib.axes._subplots.AxesSubplot at 0x7f3908417828>"
            ]
          },
          "metadata": {
            "tags": []
          },
          "execution_count": 10
        },
        {
          "output_type": "display_data",
          "data": {
            "image/png": "[encoded data removed]",
            "text/plain": [
              "<Figure size 432x288 with 1 Axes>"
            ]
          },
          "metadata": {
            "tags": []
          }
        }
      ]
    },
    {
      "cell_type": "code",
      "metadata": {
        "id": "8d8DZuIRMNWh"
      },
      "source": [
        "# load dataset\n",
        "#os.chdir('D:\\\\Python\\\\PYTHON_DATA')\n",
        "#training = read_csv('training.csv', header=0, index_col=0)\n",
        "\n",
        "\n",
        "training.index =training[ 'time']\n",
        "#training.fillna(0, inplace=True) #fill na using 0\n",
        "training=training.drop(\"time\",1)\n",
        "values = training.values\n",
        "# integer encode direction\n",
        "encoder = LabelEncoder()\n",
        "values[:,1] = encoder.fit_transform(values[:,1])\n",
        "\n",
        "\n",
        "testing.index=testing['time']\n",
        "#testing.fillna(0, inplace=True) #fill na using 0\n",
        "testing=testing.drop(\"time\",1)\n",
        "values_testing = testing.values\n",
        "# integer encode direction\n",
        "encoder = LabelEncoder()\n",
        "values_testing[:,1] = encoder.fit_transform(values_testing[:,1])\n",
        "\n",
        "\n",
        "\n",
        "validations.index =validations['time']\n",
        "#validations.fillna(0, inplace=True) #fill na using 0\n",
        "validations=validations.drop(\"time\",1)\n",
        "values_validation = validations.values\n",
        "# integer encode direction\n",
        "encoder = LabelEncoder()\n",
        "values_validation[:,1] = encoder.fit_transform(values_validation[:,1])\n"
      ],
      "execution_count": null,
      "outputs": []
    },
    {
      "cell_type": "code",
      "metadata": {
        "id": "U_QZlGWzMe16"
      },
      "source": [
        "# ensure all data is float\n",
        "# training \n",
        "values = values.astype('float32')\n",
        "# testing \n",
        "values_testing = values_testing.astype('float32')\n",
        "# validation \n",
        "values_validation = values_validation.astype('float32')\n",
        "\n",
        "# normalize features\n",
        "# training\n",
        "scaler = MinMaxScaler(feature_range=(0, 1))\n",
        "scaled = scaler.fit_transform(values)\n",
        "\n",
        "\n",
        "# validation\n",
        "scaler_validation = MinMaxScaler(feature_range=(0, 1))\n",
        "scaled_validation = scaler_validation.fit_transform(values_validation)\n",
        "\n",
        "# testing \n",
        "scaler_testing = MinMaxScaler(feature_range=(0, 1))\n",
        "scaled_testing = scaler_testing.fit_transform(values_testing)"
      ],
      "execution_count": null,
      "outputs": []
    },
    {
      "cell_type": "code",
      "metadata": {
        "id": "nE_eps0SPipl",
        "colab": {
          "base_uri": "https://localhost:8080/",
          "height": 52
        },
        "outputId": "b30b67d5-dd12-4620-9768-9ea5e14424ef"
      },
      "source": [
        "# split into input and outputs\n",
        "train_X ,train_y=scaled[:,1:7], scaled[:,0]\n",
        "validation_X,validation_y= scaled_validation[:,1:7], scaled_validation[:,0]\n",
        "test_X, test_y = scaled_testing[:,1:7], scaled_testing[:,0]\n",
        "print(test_X.shape, len(test_X), test_y.shape)\n",
        "\n",
        "# reshape input to be 3D [samples, timesteps, features]\n",
        "train_X = train_X.reshape((train_X.shape[0],1,6))\n",
        "test_X = test_X.reshape((test_X.shape[0],1,6))\n",
        "validation_X = validation_X.reshape((validation_X.shape[0], 1,6))\n",
        "print(train_X.shape, train_y.shape, test_X.shape, test_y.shape,validation_X.shape,validation_y.shape)"
      ],
      "execution_count": null,
      "outputs": [
        {
          "output_type": "stream",
          "text": [
            "(255, 6) 255 (255,)\n",
            "(6735, 1, 6) (6735,) (255, 1, 6) (255,) (1745, 1, 6) (1745,)\n"
          ],
          "name": "stdout"
        }
      ]
    },
    {
      "cell_type": "code",
      "metadata": {
        "id": "Zs_DZ4rbMe0u",
        "colab": {
          "base_uri": "https://localhost:8080/",
          "height": 179
        },
        "outputId": "810b7687-6275-415c-858a-15def78a83ee"
      },
      "source": [
        "model = Sequential()\n",
        "model.add(LSTM(50, input_shape=(1,6), return_sequences=True))\n",
        "model.add(Lambda(lambda x: x[:, -50:, :]))\n",
        "model.add(LSTM(50, input_shape=(50, 6), return_sequences=True))\n",
        "model.add(Dense(50))\n",
        "model.add(LSTM(50, input_shape=(50, 6), return_sequences=True))\n",
        "model.add(Dense(50))\n",
        "model.add(LSTM(50, input_shape=(50,6), return_sequences=False))\n",
        "model.add(Dense(1))\n",
        "model.compile(optimizer='adam', loss='mse')"
      ],
      "execution_count": null,
      "outputs": [
        {
          "output_type": "stream",
          "text": [
            "WARNING:tensorflow:From /usr/local/lib/python3.6/dist-packages/keras/backend/tensorflow_backend.py:66: The name tf.get_default_graph is deprecated. Please use tf.compat.v1.get_default_graph instead.\n",
            "\n",
            "WARNING:tensorflow:From /usr/local/lib/python3.6/dist-packages/keras/backend/tensorflow_backend.py:541: The name tf.placeholder is deprecated. Please use tf.compat.v1.placeholder instead.\n",
            "\n",
            "WARNING:tensorflow:From /usr/local/lib/python3.6/dist-packages/keras/backend/tensorflow_backend.py:4432: The name tf.random_uniform is deprecated. Please use tf.random.uniform instead.\n",
            "\n",
            "WARNING:tensorflow:From /usr/local/lib/python3.6/dist-packages/keras/optimizers.py:793: The name tf.train.Optimizer is deprecated. Please use tf.compat.v1.train.Optimizer instead.\n",
            "\n"
          ],
          "name": "stdout"
        }
      ]
    },
    {
      "cell_type": "code",
      "metadata": {
        "id": "UJobtM3RMevt",
        "colab": {
          "base_uri": "https://localhost:8080/",
          "height": 1000
        },
        "outputId": "8a7e194d-b50f-4c1b-df9a-dbdb89521391"
      },
      "source": [
        "# fit network use validation \n",
        "history = model.fit(train_X,train_y,epochs=50,batch_size=64,validation_data=(validation_X,validation_y))"
      ],
      "execution_count": null,
      "outputs": [
        {
          "output_type": "stream",
          "text": [
            "WARNING:tensorflow:From /usr/local/lib/python3.6/dist-packages/tensorflow_core/python/ops/math_grad.py:1424: where (from tensorflow.python.ops.array_ops) is deprecated and will be removed in a future version.\n",
            "Instructions for updating:\n",
            "Use tf.where in 2.0, which has the same broadcast rule as np.where\n",
            "WARNING:tensorflow:From /usr/local/lib/python3.6/dist-packages/keras/backend/tensorflow_backend.py:1033: The name tf.assign_add is deprecated. Please use tf.compat.v1.assign_add instead.\n",
            "\n",
            "WARNING:tensorflow:From /usr/local/lib/python3.6/dist-packages/keras/backend/tensorflow_backend.py:1020: The name tf.assign is deprecated. Please use tf.compat.v1.assign instead.\n",
            "\n",
            "WARNING:tensorflow:From /usr/local/lib/python3.6/dist-packages/keras/backend/tensorflow_backend.py:3005: The name tf.Session is deprecated. Please use tf.compat.v1.Session instead.\n",
            "\n",
            "Train on 6735 samples, validate on 1745 samples\n",
            "Epoch 1/50\n",
            "WARNING:tensorflow:From /usr/local/lib/python3.6/dist-packages/keras/backend/tensorflow_backend.py:190: The name tf.get_default_session is deprecated. Please use tf.compat.v1.get_default_session instead.\n",
            "\n",
            "WARNING:tensorflow:From /usr/local/lib/python3.6/dist-packages/keras/backend/tensorflow_backend.py:197: The name tf.ConfigProto is deprecated. Please use tf.compat.v1.ConfigProto instead.\n",
            "\n",
            "WARNING:tensorflow:From /usr/local/lib/python3.6/dist-packages/keras/backend/tensorflow_backend.py:207: The name tf.global_variables is deprecated. Please use tf.compat.v1.global_variables instead.\n",
            "\n",
            "WARNING:tensorflow:From /usr/local/lib/python3.6/dist-packages/keras/backend/tensorflow_backend.py:216: The name tf.is_variable_initialized is deprecated. Please use tf.compat.v1.is_variable_initialized instead.\n",
            "\n",
            "WARNING:tensorflow:From /usr/local/lib/python3.6/dist-packages/keras/backend/tensorflow_backend.py:223: The name tf.variables_initializer is deprecated. Please use tf.compat.v1.variables_initializer instead.\n",
            "\n",
            "6735/6735 [==============================] - 5s 683us/step - loss: 0.0130 - val_loss: 4.6900e-04\n",
            "Epoch 2/50\n",
            "6735/6735 [==============================] - 1s 184us/step - loss: 7.7300e-05 - val_loss: 6.6242e-05\n",
            "Epoch 3/50\n",
            "6735/6735 [==============================] - 1s 190us/step - loss: 3.7439e-05 - val_loss: 1.0101e-04\n",
            "Epoch 4/50\n",
            "6735/6735 [==============================] - 1s 182us/step - loss: 4.1328e-05 - val_loss: 4.2781e-05\n",
            "Epoch 5/50\n",
            "6735/6735 [==============================] - 1s 182us/step - loss: 4.2527e-05 - val_loss: 4.5558e-05\n",
            "Epoch 6/50\n",
            "6735/6735 [==============================] - 1s 184us/step - loss: 3.8152e-05 - val_loss: 5.4078e-05\n",
            "Epoch 7/50\n",
            "6735/6735 [==============================] - 1s 186us/step - loss: 3.6582e-05 - val_loss: 5.2922e-05\n",
            "Epoch 8/50\n",
            "6735/6735 [==============================] - 1s 185us/step - loss: 3.1385e-05 - val_loss: 3.6085e-05\n",
            "Epoch 9/50\n",
            "6735/6735 [==============================] - 1s 195us/step - loss: 2.9785e-05 - val_loss: 3.1237e-05\n",
            "Epoch 10/50\n",
            "6735/6735 [==============================] - 1s 185us/step - loss: 3.2090e-05 - val_loss: 7.2474e-05\n",
            "Epoch 11/50\n",
            "6735/6735 [==============================] - 1s 192us/step - loss: 2.6122e-05 - val_loss: 2.5589e-05\n",
            "Epoch 12/50\n",
            "6735/6735 [==============================] - 1s 185us/step - loss: 2.3913e-05 - val_loss: 2.3534e-05\n",
            "Epoch 13/50\n",
            "6735/6735 [==============================] - 1s 186us/step - loss: 2.5318e-05 - val_loss: 2.4325e-05\n",
            "Epoch 14/50\n",
            "6735/6735 [==============================] - 1s 184us/step - loss: 3.4858e-05 - val_loss: 3.6499e-05\n",
            "Epoch 15/50\n",
            "6735/6735 [==============================] - 1s 186us/step - loss: 2.3143e-05 - val_loss: 8.0933e-05\n",
            "Epoch 16/50\n",
            "6735/6735 [==============================] - 1s 189us/step - loss: 2.3781e-05 - val_loss: 4.8520e-05\n",
            "Epoch 17/50\n",
            "6735/6735 [==============================] - 1s 181us/step - loss: 2.8719e-05 - val_loss: 1.6003e-04\n",
            "Epoch 18/50\n",
            "6735/6735 [==============================] - 1s 185us/step - loss: 2.9120e-05 - val_loss: 2.3114e-05\n",
            "Epoch 19/50\n",
            "6735/6735 [==============================] - 1s 183us/step - loss: 2.5026e-05 - val_loss: 5.8654e-05\n",
            "Epoch 20/50\n",
            "6735/6735 [==============================] - 1s 191us/step - loss: 2.0560e-05 - val_loss: 2.7858e-05\n",
            "Epoch 21/50\n",
            "6735/6735 [==============================] - 1s 188us/step - loss: 2.4606e-05 - val_loss: 1.3474e-04\n",
            "Epoch 22/50\n",
            "6735/6735 [==============================] - 1s 181us/step - loss: 2.2136e-05 - val_loss: 2.7215e-05\n",
            "Epoch 23/50\n",
            "6735/6735 [==============================] - 1s 180us/step - loss: 1.8679e-05 - val_loss: 6.7333e-05\n",
            "Epoch 24/50\n",
            "6735/6735 [==============================] - 1s 181us/step - loss: 1.9219e-05 - val_loss: 6.3541e-05\n",
            "Epoch 25/50\n",
            "6735/6735 [==============================] - 1s 189us/step - loss: 2.1757e-05 - val_loss: 3.4792e-05\n",
            "Epoch 26/50\n",
            "6735/6735 [==============================] - 1s 184us/step - loss: 2.0038e-05 - val_loss: 5.3960e-05\n",
            "Epoch 27/50\n",
            "6735/6735 [==============================] - 1s 182us/step - loss: 1.4560e-05 - val_loss: 2.6212e-05\n",
            "Epoch 28/50\n",
            "6735/6735 [==============================] - 1s 188us/step - loss: 2.0967e-05 - val_loss: 2.4576e-05\n",
            "Epoch 29/50\n",
            "6735/6735 [==============================] - 1s 183us/step - loss: 1.6406e-05 - val_loss: 1.1934e-04\n",
            "Epoch 30/50\n",
            "6735/6735 [==============================] - 1s 181us/step - loss: 3.0304e-05 - val_loss: 2.3089e-05\n",
            "Epoch 31/50\n",
            "6735/6735 [==============================] - 1s 180us/step - loss: 2.1499e-05 - val_loss: 8.0959e-05\n",
            "Epoch 32/50\n",
            "6735/6735 [==============================] - 1s 179us/step - loss: 2.9628e-05 - val_loss: 7.8656e-05\n",
            "Epoch 33/50\n",
            "6735/6735 [==============================] - 1s 189us/step - loss: 1.6134e-05 - val_loss: 2.9926e-05\n",
            "Epoch 34/50\n",
            "6735/6735 [==============================] - 1s 182us/step - loss: 1.8087e-05 - val_loss: 2.5942e-05\n",
            "Epoch 35/50\n",
            "6735/6735 [==============================] - 1s 185us/step - loss: 2.1326e-05 - val_loss: 3.2277e-05\n",
            "Epoch 36/50\n",
            "6735/6735 [==============================] - 1s 182us/step - loss: 2.3703e-05 - val_loss: 2.7026e-05\n",
            "Epoch 37/50\n",
            "6735/6735 [==============================] - 1s 190us/step - loss: 2.3799e-05 - val_loss: 5.7465e-05\n",
            "Epoch 38/50\n",
            "6735/6735 [==============================] - 1s 180us/step - loss: 1.8280e-05 - val_loss: 1.3159e-04\n",
            "Epoch 39/50\n",
            "6735/6735 [==============================] - 1s 183us/step - loss: 1.6813e-05 - val_loss: 2.9472e-05\n",
            "Epoch 40/50\n",
            "6735/6735 [==============================] - 1s 187us/step - loss: 1.8533e-05 - val_loss: 2.5872e-05\n",
            "Epoch 41/50\n",
            "6735/6735 [==============================] - 1s 179us/step - loss: 2.4795e-05 - val_loss: 6.8844e-05\n",
            "Epoch 42/50\n",
            "6735/6735 [==============================] - 1s 186us/step - loss: 1.9824e-05 - val_loss: 7.9066e-05\n",
            "Epoch 43/50\n",
            "6735/6735 [==============================] - 1s 182us/step - loss: 2.1855e-05 - val_loss: 3.4639e-05\n",
            "Epoch 44/50\n",
            "6735/6735 [==============================] - 1s 183us/step - loss: 2.1020e-05 - val_loss: 3.2554e-05\n",
            "Epoch 45/50\n",
            "6735/6735 [==============================] - 1s 181us/step - loss: 1.6221e-05 - val_loss: 2.6801e-05\n",
            "Epoch 46/50\n",
            "6735/6735 [==============================] - 1s 182us/step - loss: 2.2721e-05 - val_loss: 2.8814e-05\n",
            "Epoch 47/50\n",
            "6735/6735 [==============================] - 1s 183us/step - loss: 1.3126e-05 - val_loss: 2.2853e-05\n",
            "Epoch 48/50\n",
            "6735/6735 [==============================] - 1s 179us/step - loss: 1.4563e-05 - val_loss: 2.3368e-05\n",
            "Epoch 49/50\n",
            "6735/6735 [==============================] - 1s 181us/step - loss: 2.5373e-05 - val_loss: 3.4598e-05\n",
            "Epoch 50/50\n",
            "6735/6735 [==============================] - 1s 184us/step - loss: 1.3398e-05 - val_loss: 2.7219e-05\n"
          ],
          "name": "stdout"
        }
      ]
    },
    {
      "cell_type": "code",
      "metadata": {
        "id": "Qt97YFR79fYf"
      },
      "source": [
        "##save model(another way using sklearn2pmml)\n",
        "model.save(\"LSTM_MODEL.h5\")\n",
        "\n",
        "##load model(another way using sklearn2pmml)\n",
        "#https://stackoverflow.com/questions/33221331/export-python-scikit-learn-models-into-pmml\n",
        "model = load_model('LSTM_MODEL.h5')"
      ],
      "execution_count": null,
      "outputs": []
    },
    {
      "cell_type": "code",
      "metadata": {
        "id": "OkrSizqz5GuU",
        "colab": {
          "base_uri": "https://localhost:8080/",
          "height": 313
        },
        "outputId": "a293ae45-e2dd-4aad-e532-a8bb5fdc3f24"
      },
      "source": [
        "print(history.history.keys())\n",
        "#summarize history for loss plt.plot(history.history['loss']) plt.plot(history.history['val_loss']) plt.title('model loss')\n",
        "##經loss圖看，兩組數據性能應為相似，若兩條線分開則有可能應該提前停止訓練\n",
        "pyplot.plot(history.history['loss'])\n",
        "pyplot.plot(history.history['val_loss'])\n",
        "pyplot.title('model train vs validation loss')\n",
        "pyplot.ylabel('loss')\n",
        "pyplot.xlabel('epoch')\n",
        "pyplot.legend(['train', 'validation'], loc='upper right')\n",
        "pyplot.show()"
      ],
      "execution_count": null,
      "outputs": [
        {
          "output_type": "stream",
          "text": [
            "dict_keys(['val_loss', 'loss'])\n"
          ],
          "name": "stdout"
        },
        {
          "output_type": "display_data",
          "data": {
            "image/png": "[encoded data removed]",
            "text/plain": [
              "<Figure size 432x288 with 1 Axes>"
            ]
          },
          "metadata": {
            "tags": []
          }
        }
      ]
    },
    {
      "cell_type": "code",
      "metadata": {
        "id": "PEk0HBpOPyMc",
        "colab": {
          "base_uri": "https://localhost:8080/",
          "height": 35
        },
        "outputId": "1aaa6d31-bc4c-40e4-febb-43c082f312c4"
      },
      "source": [
        "# make a prediction\n",
        "yhat = model.predict(test_X)\n",
        "\n",
        "# invert scaling for forecast\n",
        "test_X = test_X.reshape((test_X.shape[0], 6))\n",
        "inv_yhat = concatenate((yhat, test_X[:,:]), axis=1)\n",
        "inv_yhat= scaler_testing.inverse_transform(inv_yhat)\n",
        "test_X = test_X.reshape((test_X.shape[0], 6))\n",
        "# invert scaling for forecast\n",
        "inv_yhat = concatenate((yhat, test_X[:,:]), axis=1)\n",
        "inv_yhat = scaler_testing.inverse_transform(inv_yhat)\n",
        "inv_yhat = inv_yhat[:,0]\n",
        "\n",
        "# invert scaling for actual\n",
        "test_y = test_y.reshape((len(test_y), 1))\n",
        "inv_y = concatenate((test_y, test_X[:,:]), axis=1)\n",
        "inv_y = scaler_testing.inverse_transform(inv_y)\n",
        "inv_y = inv_y[:,0]\n",
        "# calculate RMSE(for total)\n",
        "rmse = sqrt(mean_squared_error(inv_y, inv_yhat))\n",
        "print('Test RMSE: %.3f' % rmse)"
      ],
      "execution_count": null,
      "outputs": [
        {
          "output_type": "stream",
          "text": [
            "Test RMSE: 2.876\n"
          ],
          "name": "stdout"
        }
      ]
    },
    {
      "cell_type": "code",
      "metadata": {
        "id": "bAZVRkM-Qlbp"
      },
      "source": [
        "inv_yhat = concatenate((yhat, test_X[:,:]), axis=1)\n",
        "inv_yhat = scaler_testing.inverse_transform(inv_yhat)\n",
        "inv_y = concatenate((test_y, test_X[:,:]), axis=1)\n",
        "inv_y = scaler_testing.inverse_transform(inv_y)"
      ],
      "execution_count": null,
      "outputs": []
    },
    {
      "cell_type": "code",
      "metadata": {
        "id": "42wfO0anQ4jZ",
        "colab": {
          "base_uri": "https://localhost:8080/",
          "height": 106
        },
        "outputId": "5d96e5d4-931c-4929-8064-4cc11efa36ef"
      },
      "source": [
        "df = pd.DataFrame(inv_yhat)\n",
        "df_true = pd.DataFrame(inv_y)\n",
        "A,B,C,D,E=splite_data(df)\n",
        "Atrue,Btrue,Ctrue,Dtrue,Etrue=splite_data(df_true)\n",
        "\n",
        "\n",
        "\n",
        "# calculate RMSE(for individual)\n",
        "#A company\n",
        "rmse = sqrt(mean_squared_error(A[0], Atrue[0]))\n",
        "print('Test A company RMSE: %.3f' % rmse)\n",
        "#B company\n",
        "rmse = sqrt(mean_squared_error(B[0], Btrue[0]))\n",
        "print('Test B company RMSE: %.3f' % rmse)\n",
        "#C company\n",
        "rmse = sqrt(mean_squared_error(C[0], Ctrue[0]))\n",
        "print('Test C company RMSE: %.3f' % rmse)\n",
        "#D company\n",
        "rmse = sqrt(mean_squared_error(D[0], Dtrue[0]))\n",
        "print('Test D company RMSE: %.3f' % rmse)\n",
        "#E company\n",
        "rmse = sqrt(mean_squared_error(E[0], Etrue[0]))\n",
        "print('Test E company RMSE: %.3f' % rmse)"
      ],
      "execution_count": null,
      "outputs": [
        {
          "output_type": "stream",
          "text": [
            "Test A company RMSE: 0.752\n",
            "Test B company RMSE: 0.159\n",
            "Test C company RMSE: 1.171\n",
            "Test D company RMSE: 0.315\n",
            "Test E company RMSE: 6.269\n"
          ],
          "name": "stdout"
        }
      ]
    },
    {
      "cell_type": "code",
      "metadata": {
        "id": "vOpxsuFcsAio"
      },
      "source": [
        "##merge predic value and true value to compare accuracy\n",
        "def conver_data(dataf_true,dataf):\n",
        "  wide_df=pd.DataFrame()\n",
        "  wide_df1=pd.DataFrame()\n",
        "  wide_df2=pd.DataFrame()\n",
        "  A1=pd.DataFrame()\n",
        "  B1=pd.DataFrame()\n",
        "  C1=pd.DataFrame()\n",
        "  D1=pd.DataFrame()\n",
        "  E1=pd.DataFrame()\n",
        "\n",
        "  #dataf.reset_index(inplace=True)\n",
        "  #dataf.rename(columns={'index':'time1'},inplace=True)\n",
        "  dataf.rename(columns={0:'stock_price_prediction'},inplace=True)\n",
        "  dataf.rename(columns={1:'stock_ticker'},inplace=True)\n",
        "\n",
        "  #dataf_true.reset_index(inplace=True)\n",
        "  #dataf_true.rename(columns={'index':'time1'},inplace=True)\n",
        "  dataf_true.rename(columns={0:'stock_price_true'},inplace=True)\n",
        "  dataf_true.rename(columns={1:'stock_ticker'},inplace=True)\n",
        "  \n",
        "  dataf[['stock_price_true']]=dataf_true[['stock_price_true']]\n",
        "  columns = dataf.columns\n",
        "  dataf = dataf.reindex(columns=columns)\n",
        "  dataf1=dataf[['stock_price_prediction','stock_price_true','stock_ticker']]\n",
        "  A1=dataf1[dataf1['stock_ticker']==0.0]\n",
        "  B1=dataf1[dataf1['stock_ticker']==1.0]\n",
        "  C1=dataf1[dataf1['stock_ticker']==2.0]\n",
        "  D1=dataf1[dataf1['stock_ticker']==3.0]\n",
        "  E1=dataf1[dataf1['stock_ticker']==4.0]\n",
        "  \n",
        "  A1.index = np.arange(0, len(A1))\n",
        "  A1.reset_index(inplace=True)\n",
        "  A1.rename(columns={'index':'time'},inplace=True)\n",
        "  B1.index = np.arange(0, len(A1))\n",
        "  B1.reset_index(inplace=True)\n",
        "  B1.rename(columns={'index':'time'},inplace=True)  \n",
        "  C1.index = np.arange(0, len(A1))\n",
        "  C1.reset_index(inplace=True)\n",
        "  C1.rename(columns={'index':'time'},inplace=True)\n",
        "  D1.index = np.arange(0, len(A1))\n",
        "  D1.reset_index(inplace=True)\n",
        "  D1.rename(columns={'index':'time'},inplace=True)\n",
        "  E1.index = np.arange(0, len(A1))\n",
        "  E1.reset_index(inplace=True)\n",
        "  E1.rename(columns={'index':'time'},inplace=True)\n",
        "\n",
        "  wide_df=A1\n",
        "  wide_df=wide_df.append(B1, ignore_index = True)\n",
        "  wide_df=wide_df.append(C1, ignore_index = True)\n",
        "  wide_df=wide_df.append(D1, ignore_index = True)\n",
        "  wide_df=wide_df.append(E1, ignore_index = True)\n",
        "  wide_df1=wide_df[['time', 'stock_price_prediction','stock_ticker']]\n",
        "  wide_df2=wide_df[['time','stock_price_true','stock_ticker']]\n",
        "  wide_df1.rename(columns={'stock_price_prediction':'stock_price'},inplace=True)\n",
        "  wide_df2.rename(columns={'stock_price_true':'stock_price'},inplace=True)\n",
        "  wide_df1['type']='prediction'\n",
        "  wide_df2['type']='truth'\n",
        "  wide_df1=wide_df1.append(wide_df2, ignore_index = True)\n",
        "  return  wide_df1"
      ],
      "execution_count": null,
      "outputs": []
    },
    {
      "cell_type": "code",
      "metadata": {
        "id": "-muuUAi4Nuey",
        "colab": {
          "base_uri": "https://localhost:8080/",
          "height": 106
        },
        "outputId": "51392fec-26bb-41ce-ad05-014a92d13f0c"
      },
      "source": [
        "Data_all=conver_data(df_true,df)"
      ],
      "execution_count": null,
      "outputs": [
        {
          "output_type": "stream",
          "text": [
            "/usr/local/lib/python3.6/dist-packages/pandas/core/frame.py:4238: SettingWithCopyWarning: \n",
            "A value is trying to be set on a copy of a slice from a DataFrame\n",
            "\n",
            "See the caveats in the documentation: http://pandas.pydata.org/pandas-docs/stable/user_guide/indexing.html#returning-a-view-versus-a-copy\n",
            "  return super().rename(**kwargs)\n"
          ],
          "name": "stderr"
        }
      ]
    },
    {
      "cell_type": "code",
      "metadata": {
        "id": "06-DhjiOcG0d",
        "colab": {
          "base_uri": "https://localhost:8080/",
          "height": 385
        },
        "outputId": "43af63f4-4b58-4f1e-b2d9-2a264c190bf7"
      },
      "source": [
        "#sns.lineplot(x=\"time\", y=\"stock_price\",hue='type',data=Data_all,err_style=\"bars\",style=\"stock_ticker\",sizes=(20,15))\n",
        "sns.set(style=\"whitegrid\")\n",
        "g=sns.relplot(x=\"time\", y=\"stock_price\",kind=\"line\",  \n",
        "            hue='type',\n",
        "            col=\"stock_ticker\",\n",
        "            data=Data_all)"
      ],
      "execution_count": null,
      "outputs": [
        {
          "output_type": "display_data",
          "data": {
            "image/png": "[encoded data removed]",
            "text/plain": [
              "<Figure size 1895.6x360 with 5 Axes>"
            ]
          },
          "metadata": {
            "tags": []
          }
        }
      ]
    },
    {
      "cell_type": "code",
      "metadata": {
        "id": "X-02Sk3dsdKv"
      },
      "source": [
        "##def conditions(data2):\n",
        "    #if  (data2['percent_change_stock_price'] >(data2[\"mean_stock_price\"]+data2[\"sd_stock_price\"])):\n",
        "       # return  1\n",
        "    #elif (data2['percent_change_stock_price'] >=(data2[\"mean_stock_price\"]-data2[\"sd_stock_price\"])):\n",
        "       # return  0\n",
        "    #else: \n",
        "        #return -1"
      ],
      "execution_count": null,
      "outputs": []
    },
    {
      "cell_type": "code",
      "metadata": {
        "id": "2Em0BZIEQ6LV",
        "colab": {
          "base_uri": "https://localhost:8080/",
          "height": 1000
        },
        "outputId": "bbf6c896-8fe9-4736-f047-107fea5fde77"
      },
      "source": [
        "##算出各股50天情形\n",
        "def  gen_percent_change_stock_price(data,data2):\n",
        "  data[\"lag_stock_price\"]=data[0].shift(1)\n",
        "  ##算出平均、sd、ercent_change_stock_price\n",
        "  data['percent_change_stock_price']= (data[0]-data[\"lag_stock_price\"])/data[\"lag_stock_price\"]\n",
        "  data[\"mean_stock_price\"]=data['percent_change_stock_price'].mean()\n",
        "  data[\"sd_stock_price\"]=data['percent_change_stock_price'].std()\n",
        "\n",
        "  data2[\"lag_stock_price\"]=data2[0].shift(1)\n",
        "  data2['percent_change_stock_price']= (data2[0]-data2[\"lag_stock_price\"])/data2[\"lag_stock_price\"]\n",
        "  data2['mean_stock_price']=data[\"mean_stock_price\"]\n",
        "  data2['sd_stock_price']=data[\"sd_stock_price\"]\n",
        "  return data, data2\n",
        "\n",
        "\n",
        "def conditions_to_determine_classification(data2):\n",
        "    if  (data2['percent_change_stock_price'] >(data2[\"mean_stock_price\"]+data2[\"sd_stock_price\"])):\n",
        "        return  1\n",
        "    elif (data2['percent_change_stock_price'] >=(data2[\"mean_stock_price\"]-data2[\"sd_stock_price\"])):\n",
        "        return  0\n",
        "    else: \n",
        "        return -1\n",
        "\n",
        "##generate the  percent change  stock price        \n",
        "A_TRUE,class_A=gen_percent_change_stock_price(Atrue,A)\n",
        "B_TRUE,class_B=gen_percent_change_stock_price(Btrue,B)\n",
        "C_TRUE,class_C=gen_percent_change_stock_price(Ctrue,C)\n",
        "D_TRUE,class_D=gen_percent_change_stock_price(Dtrue,D)\n",
        "E_TRUE,class_E=gen_percent_change_stock_price(Etrue,E)\n",
        "\n",
        "##gen the classification\n",
        "class_A['Class'] = class_A.apply(conditions_to_determine_classification, axis=1)\n",
        "class_B['Class'] = class_B.apply(conditions_to_determine_classification, axis=1)\n",
        "class_C['Class'] = class_C.apply(conditions_to_determine_classification, axis=1)\n",
        "class_D['Class'] = class_D.apply(conditions_to_determine_classification, axis=1)\n",
        "class_E['Class'] = class_E.apply(conditions_to_determine_classification, axis=1)\n",
        "\n",
        "##gen the classification\n",
        "A_TRUE['Class'] = A_TRUE.apply(conditions_to_determine_classification, axis=1)\n",
        "B_TRUE['Class'] = B_TRUE.apply(conditions_to_determine_classification, axis=1)\n",
        "C_TRUE['Class'] = C_TRUE.apply(conditions_to_determine_classification, axis=1)\n",
        "D_TRUE['Class'] = D_TRUE.apply(conditions_to_determine_classification, axis=1)\n",
        "E_TRUE['Class'] = E_TRUE.apply(conditions_to_determine_classification, axis=1)\n",
        "\n",
        "\n",
        "\n",
        "\n",
        "##export data using excel\n",
        "class_A.to_excel('class_A.xlsx')\n",
        "class_B.to_excel('class_B.xlsx')\n",
        "class_C.to_excel('class_C.xlsx')\n",
        "class_D.to_excel('class_D.xlsx')\n",
        "class_E.to_excel('class_E.xlsx')"
      ],
      "execution_count": null,
      "outputs": [
        {
          "output_type": "stream",
          "text": [
            "/usr/local/lib/python3.6/dist-packages/ipykernel_launcher.py:2: SettingWithCopyWarning: \n",
            "A value is trying to be set on a copy of a slice from a DataFrame.\n",
            "Try using .loc[row_indexer,col_indexer] = value instead\n",
            "\n",
            "See the caveats in the documentation: http://pandas.pydata.org/pandas-docs/stable/user_guide/indexing.html#returning-a-view-versus-a-copy\n",
            "  \n",
            "/usr/local/lib/python3.6/dist-packages/ipykernel_launcher.py:4: SettingWithCopyWarning: \n",
            "A value is trying to be set on a copy of a slice from a DataFrame.\n",
            "Try using .loc[row_indexer,col_indexer] = value instead\n",
            "\n",
            "See the caveats in the documentation: http://pandas.pydata.org/pandas-docs/stable/user_guide/indexing.html#returning-a-view-versus-a-copy\n",
            "  after removing the cwd from sys.path.\n",
            "/usr/local/lib/python3.6/dist-packages/ipykernel_launcher.py:5: SettingWithCopyWarning: \n",
            "A value is trying to be set on a copy of a slice from a DataFrame.\n",
            "Try using .loc[row_indexer,col_indexer] = value instead\n",
            "\n",
            "See the caveats in the documentation: http://pandas.pydata.org/pandas-docs/stable/user_guide/indexing.html#returning-a-view-versus-a-copy\n",
            "  \"\"\"\n",
            "/usr/local/lib/python3.6/dist-packages/ipykernel_launcher.py:6: SettingWithCopyWarning: \n",
            "A value is trying to be set on a copy of a slice from a DataFrame.\n",
            "Try using .loc[row_indexer,col_indexer] = value instead\n",
            "\n",
            "See the caveats in the documentation: http://pandas.pydata.org/pandas-docs/stable/user_guide/indexing.html#returning-a-view-versus-a-copy\n",
            "  \n",
            "/usr/local/lib/python3.6/dist-packages/ipykernel_launcher.py:8: SettingWithCopyWarning: \n",
            "A value is trying to be set on a copy of a slice from a DataFrame.\n",
            "Try using .loc[row_indexer,col_indexer] = value instead\n",
            "\n",
            "See the caveats in the documentation: http://pandas.pydata.org/pandas-docs/stable/user_guide/indexing.html#returning-a-view-versus-a-copy\n",
            "  \n",
            "/usr/local/lib/python3.6/dist-packages/ipykernel_launcher.py:9: SettingWithCopyWarning: \n",
            "A value is trying to be set on a copy of a slice from a DataFrame.\n",
            "Try using .loc[row_indexer,col_indexer] = value instead\n",
            "\n",
            "See the caveats in the documentation: http://pandas.pydata.org/pandas-docs/stable/user_guide/indexing.html#returning-a-view-versus-a-copy\n",
            "  if __name__ == '__main__':\n",
            "/usr/local/lib/python3.6/dist-packages/ipykernel_launcher.py:10: SettingWithCopyWarning: \n",
            "A value is trying to be set on a copy of a slice from a DataFrame.\n",
            "Try using .loc[row_indexer,col_indexer] = value instead\n",
            "\n",
            "See the caveats in the documentation: http://pandas.pydata.org/pandas-docs/stable/user_guide/indexing.html#returning-a-view-versus-a-copy\n",
            "  # Remove the CWD from sys.path while we load stuff.\n",
            "/usr/local/lib/python3.6/dist-packages/ipykernel_launcher.py:11: SettingWithCopyWarning: \n",
            "A value is trying to be set on a copy of a slice from a DataFrame.\n",
            "Try using .loc[row_indexer,col_indexer] = value instead\n",
            "\n",
            "See the caveats in the documentation: http://pandas.pydata.org/pandas-docs/stable/user_guide/indexing.html#returning-a-view-versus-a-copy\n",
            "  # This is added back by InteractiveShellApp.init_path()\n",
            "/usr/local/lib/python3.6/dist-packages/ipykernel_launcher.py:31: SettingWithCopyWarning: \n",
            "A value is trying to be set on a copy of a slice from a DataFrame.\n",
            "Try using .loc[row_indexer,col_indexer] = value instead\n",
            "\n",
            "See the caveats in the documentation: http://pandas.pydata.org/pandas-docs/stable/user_guide/indexing.html#returning-a-view-versus-a-copy\n",
            "/usr/local/lib/python3.6/dist-packages/ipykernel_launcher.py:32: SettingWithCopyWarning: \n",
            "A value is trying to be set on a copy of a slice from a DataFrame.\n",
            "Try using .loc[row_indexer,col_indexer] = value instead\n",
            "\n",
            "See the caveats in the documentation: http://pandas.pydata.org/pandas-docs/stable/user_guide/indexing.html#returning-a-view-versus-a-copy\n",
            "/usr/local/lib/python3.6/dist-packages/ipykernel_launcher.py:33: SettingWithCopyWarning: \n",
            "A value is trying to be set on a copy of a slice from a DataFrame.\n",
            "Try using .loc[row_indexer,col_indexer] = value instead\n",
            "\n",
            "See the caveats in the documentation: http://pandas.pydata.org/pandas-docs/stable/user_guide/indexing.html#returning-a-view-versus-a-copy\n",
            "/usr/local/lib/python3.6/dist-packages/ipykernel_launcher.py:34: SettingWithCopyWarning: \n",
            "A value is trying to be set on a copy of a slice from a DataFrame.\n",
            "Try using .loc[row_indexer,col_indexer] = value instead\n",
            "\n",
            "See the caveats in the documentation: http://pandas.pydata.org/pandas-docs/stable/user_guide/indexing.html#returning-a-view-versus-a-copy\n",
            "/usr/local/lib/python3.6/dist-packages/ipykernel_launcher.py:35: SettingWithCopyWarning: \n",
            "A value is trying to be set on a copy of a slice from a DataFrame.\n",
            "Try using .loc[row_indexer,col_indexer] = value instead\n",
            "\n",
            "See the caveats in the documentation: http://pandas.pydata.org/pandas-docs/stable/user_guide/indexing.html#returning-a-view-versus-a-copy\n",
            "/usr/local/lib/python3.6/dist-packages/ipykernel_launcher.py:38: SettingWithCopyWarning: \n",
            "A value is trying to be set on a copy of a slice from a DataFrame.\n",
            "Try using .loc[row_indexer,col_indexer] = value instead\n",
            "\n",
            "See the caveats in the documentation: http://pandas.pydata.org/pandas-docs/stable/user_guide/indexing.html#returning-a-view-versus-a-copy\n",
            "/usr/local/lib/python3.6/dist-packages/ipykernel_launcher.py:39: SettingWithCopyWarning: \n",
            "A value is trying to be set on a copy of a slice from a DataFrame.\n",
            "Try using .loc[row_indexer,col_indexer] = value instead\n",
            "\n",
            "See the caveats in the documentation: http://pandas.pydata.org/pandas-docs/stable/user_guide/indexing.html#returning-a-view-versus-a-copy\n",
            "/usr/local/lib/python3.6/dist-packages/ipykernel_launcher.py:40: SettingWithCopyWarning: \n",
            "A value is trying to be set on a copy of a slice from a DataFrame.\n",
            "Try using .loc[row_indexer,col_indexer] = value instead\n",
            "\n",
            "See the caveats in the documentation: http://pandas.pydata.org/pandas-docs/stable/user_guide/indexing.html#returning-a-view-versus-a-copy\n",
            "/usr/local/lib/python3.6/dist-packages/ipykernel_launcher.py:41: SettingWithCopyWarning: \n",
            "A value is trying to be set on a copy of a slice from a DataFrame.\n",
            "Try using .loc[row_indexer,col_indexer] = value instead\n",
            "\n",
            "See the caveats in the documentation: http://pandas.pydata.org/pandas-docs/stable/user_guide/indexing.html#returning-a-view-versus-a-copy\n",
            "/usr/local/lib/python3.6/dist-packages/ipykernel_launcher.py:42: SettingWithCopyWarning: \n",
            "A value is trying to be set on a copy of a slice from a DataFrame.\n",
            "Try using .loc[row_indexer,col_indexer] = value instead\n",
            "\n",
            "See the caveats in the documentation: http://pandas.pydata.org/pandas-docs/stable/user_guide/indexing.html#returning-a-view-versus-a-copy\n"
          ],
          "name": "stderr"
        }
      ]
    },
    {
      "cell_type": "code",
      "metadata": {
        "id": "2f2AkJwU9vFo",
        "colab": {
          "base_uri": "https://localhost:8080/",
          "height": 1000
        },
        "outputId": "fcdf8d08-a7ff-4960-9fe2-ae5df757bc4a"
      },
      "source": [
        "##accuracy、precision、recall、f1-score\n",
        "\n",
        "##A compnay\n",
        "# Print the confusion matrix\n",
        "print('A_COMPANY \\n\\n Confusion Matrix\\n',metrics.confusion_matrix(A_TRUE.iloc[1:,11], class_A.iloc[1:,11]))\n",
        "# Print the precision and recall, among other metrics\n",
        "print(metrics.classification_report(A_TRUE.iloc[1:,11], class_A.iloc[1:,11], digits=3))\n",
        "\n",
        "##B compnay\n",
        "# Print the confusion matrix\n",
        "print('\\n\\n B_COMPANY \\n\\n Confusion Matrix\\n',metrics.confusion_matrix(B_TRUE.iloc[1:,11], class_B.iloc[1:,11]))\n",
        "# Print the precision and recall, among other metrics\n",
        "print(metrics.classification_report(B_TRUE.iloc[1:,11], class_B.iloc[1:,11], digits=3))\n",
        "\n",
        "##C compnay\n",
        "# Print the confusion matrix\n",
        "print('\\n\\n C_COMPANY \\n\\n Confusion Matrix\\n',metrics.confusion_matrix(C_TRUE.iloc[1:,11], class_C.iloc[1:,11]))\n",
        "# Print the precision and recall, among other metrics\n",
        "print(metrics.classification_report(C_TRUE.iloc[1:,11], class_C.iloc[1:,11], digits=3))\n",
        "\n",
        "##D compnay\n",
        "# Print the confusion matrix\n",
        "print('\\n\\n D_COMPANY \\n\\n Confusion Matrix\\n',metrics.confusion_matrix(D_TRUE.iloc[1:,11], class_D.iloc[1:,11]))\n",
        "# Print the precision and recall, among other metrics\n",
        "print(metrics.classification_report(D_TRUE.iloc[1:,11], class_D.iloc[1:,11], digits=3))\n",
        "\n",
        "##E compnay\n",
        "# Print the confusion matrix\n",
        "print('\\n\\n E_COMPANY \\n\\n Confusion Matrix\\n',metrics.confusion_matrix(E_TRUE.iloc[1:,11], class_E.iloc[1:,11]))\n",
        "# Print the precision and recall, among other metrics\n",
        "print(metrics.classification_report(E_TRUE.iloc[1:,11], class_E.iloc[1:,11], digits=3))"
      ],
      "execution_count": null,
      "outputs": [
        {
          "output_type": "stream",
          "text": [
            "A_COMPANY \n",
            "\n",
            " Confusion Matrix\n",
            " [[ 2  6  0]\n",
            " [ 1 33  0]\n",
            " [ 0  4  4]]\n",
            "              precision    recall  f1-score   support\n",
            "\n",
            "          -1      0.667     0.250     0.364         8\n",
            "           0      0.767     0.971     0.857        34\n",
            "           1      1.000     0.500     0.667         8\n",
            "\n",
            "    accuracy                          0.780        50\n",
            "   macro avg      0.811     0.574     0.629        50\n",
            "weighted avg      0.789     0.780     0.748        50\n",
            "\n",
            "\n",
            "\n",
            " B_COMPANY \n",
            "\n",
            " Confusion Matrix\n",
            " [[ 1  8  0]\n",
            " [ 0 33  0]\n",
            " [ 0  7  1]]\n",
            "              precision    recall  f1-score   support\n",
            "\n",
            "          -1      1.000     0.111     0.200         9\n",
            "           0      0.688     1.000     0.815        33\n",
            "           1      1.000     0.125     0.222         8\n",
            "\n",
            "    accuracy                          0.700        50\n",
            "   macro avg      0.896     0.412     0.412        50\n",
            "weighted avg      0.794     0.700     0.609        50\n",
            "\n",
            "\n",
            "\n",
            " C_COMPANY \n",
            "\n",
            " Confusion Matrix\n",
            " [[ 2  5  0]\n",
            " [ 0 37  2]\n",
            " [ 0  3  1]]\n",
            "              precision    recall  f1-score   support\n",
            "\n",
            "          -1      1.000     0.286     0.444         7\n",
            "           0      0.822     0.949     0.881        39\n",
            "           1      0.333     0.250     0.286         4\n",
            "\n",
            "    accuracy                          0.800        50\n",
            "   macro avg      0.719     0.495     0.537        50\n",
            "weighted avg      0.808     0.800     0.772        50\n",
            "\n",
            "\n",
            "\n",
            " D_COMPANY \n",
            "\n",
            " Confusion Matrix\n",
            " [[ 5  1  0]\n",
            " [ 0 37  1]\n",
            " [ 0  3  3]]\n",
            "              precision    recall  f1-score   support\n",
            "\n",
            "          -1      1.000     0.833     0.909         6\n",
            "           0      0.902     0.974     0.937        38\n",
            "           1      0.750     0.500     0.600         6\n",
            "\n",
            "    accuracy                          0.900        50\n",
            "   macro avg      0.884     0.769     0.815        50\n",
            "weighted avg      0.896     0.900     0.893        50\n",
            "\n",
            "\n",
            "\n",
            " E_COMPANY \n",
            "\n",
            " Confusion Matrix\n",
            " [[ 3  2  0]\n",
            " [ 1 36  0]\n",
            " [ 0  5  3]]\n",
            "              precision    recall  f1-score   support\n",
            "\n",
            "          -1      0.750     0.600     0.667         5\n",
            "           0      0.837     0.973     0.900        37\n",
            "           1      1.000     0.375     0.545         8\n",
            "\n",
            "    accuracy                          0.840        50\n",
            "   macro avg      0.862     0.649     0.704        50\n",
            "weighted avg      0.855     0.840     0.820        50\n",
            "\n"
          ],
          "name": "stdout"
        }
      ]
    },
    {
      "cell_type": "code",
      "metadata": {
        "id": "mg1KUtZU8l8l",
        "colab": {
          "base_uri": "https://localhost:8080/",
          "height": 1000
        },
        "outputId": "b54073f2-ee10-4061-ba19-6e574b3a700d"
      },
      "source": [
        "print(class_A,class_B,class_C,class_D,class_E)"
      ],
      "execution_count": null,
      "outputs": [
        {
          "output_type": "stream",
          "text": [
            "            0    1     2  ...  mean_stock_price  sd_stock_price  Class\n",
            "0   52.274132  0.0  5.32  ...          0.002957        0.009923     -1\n",
            "1   52.086124  0.0  5.37  ...          0.002957        0.009923      0\n",
            "2   52.385529  0.0  5.27  ...          0.002957        0.009923      0\n",
            "3   52.377281  0.0  5.29  ...          0.002957        0.009923      0\n",
            "4   52.616341  0.0  5.27  ...          0.002957        0.009923      0\n",
            "5   52.882076  0.0  5.24  ...          0.002957        0.009923      0\n",
            "6   52.882076  0.0  5.24  ...          0.002957        0.009923      0\n",
            "7   52.953072  0.0  5.24  ...          0.002957        0.009923      0\n",
            "8   53.007713  0.0  5.22  ...          0.002957        0.009923      0\n",
            "9   53.071976  0.0  5.23  ...          0.002957        0.009923      0\n",
            "10  53.047813  0.0  5.23  ...          0.002957        0.009923      0\n",
            "11  52.712570  0.0  5.25  ...          0.002957        0.009923      0\n",
            "12  53.208710  0.0  5.19  ...          0.002957        0.009923      0\n",
            "13  53.738209  0.0  5.16  ...          0.002957        0.009923      0\n",
            "14  54.499355  0.0  5.08  ...          0.002957        0.009923      1\n",
            "15  54.781208  0.0  5.11  ...          0.002957        0.009923      0\n",
            "16  54.498734  0.0  5.12  ...          0.002957        0.009923      0\n",
            "17  54.560207  0.0  5.08  ...          0.002957        0.009923      0\n",
            "18  54.869408  0.0  5.05  ...          0.002957        0.009923      0\n",
            "19  54.702236  0.0  5.05  ...          0.002957        0.009923      0\n",
            "20  54.958923  0.0  5.04  ...          0.002957        0.009923      0\n",
            "21  54.455502  0.0  5.02  ...          0.002957        0.009923     -1\n",
            "22  54.718094  0.0  5.08  ...          0.002957        0.009923      0\n",
            "23  54.347530  0.0  5.12  ...          0.002957        0.009923      0\n",
            "24  54.221519  0.0  5.16  ...          0.002957        0.009923      0\n",
            "25  54.101822  0.0  5.12  ...          0.002957        0.009923      0\n",
            "26  54.485199  0.0  5.09  ...          0.002957        0.009923      0\n",
            "27  54.996017  0.0  5.04  ...          0.002957        0.009923      0\n",
            "28  54.901821  0.0  5.12  ...          0.002957        0.009923      0\n",
            "29  55.654015  0.0  5.00  ...          0.002957        0.009923      1\n",
            "30  54.840870  0.0  5.10  ...          0.002957        0.009923     -1\n",
            "31  54.068745  0.0  5.16  ...          0.002957        0.009923     -1\n",
            "32  54.302898  0.0  5.12  ...          0.002957        0.009923      0\n",
            "33  54.892170  0.0  5.06  ...          0.002957        0.009923      0\n",
            "34  54.943825  0.0  5.01  ...          0.002957        0.009923      0\n",
            "35  54.939068  0.0  5.05  ...          0.002957        0.009923      0\n",
            "36  54.799801  0.0  5.07  ...          0.002957        0.009923      0\n",
            "37  55.277950  0.0  4.99  ...          0.002957        0.009923      0\n",
            "38  55.814384  0.0  4.96  ...          0.002957        0.009923      0\n",
            "39  55.930454  0.0  4.96  ...          0.002957        0.009923      0\n",
            "40  56.017921  0.0  4.98  ...          0.002957        0.009923      0\n",
            "41  56.260895  0.0  4.93  ...          0.002957        0.009923      0\n",
            "42  56.392410  0.0  4.95  ...          0.002957        0.009923      0\n",
            "43  56.480904  0.0  4.92  ...          0.002957        0.009923      0\n",
            "44  57.656704  0.0  4.82  ...          0.002957        0.009923      1\n",
            "45  57.693924  0.0  4.80  ...          0.002957        0.009923      0\n",
            "46  57.945210  0.0  4.85  ...          0.002957        0.009923      0\n",
            "47  58.219452  0.0  4.78  ...          0.002957        0.009923      0\n",
            "48  58.511101  0.0  4.78  ...          0.002957        0.009923      0\n",
            "49  59.247231  0.0  4.67  ...          0.002957        0.009923      0\n",
            "50  60.229218  0.0  4.60  ...          0.002957        0.009923      1\n",
            "\n",
            "[51 rows x 12 columns]              0    1     2  ...  mean_stock_price  sd_stock_price  Class\n",
            "51   10.134140  1.0  4.12  ...         -0.000303        0.007987     -1\n",
            "52   10.150381  1.0  4.12  ...         -0.000303        0.007987      0\n",
            "53   10.129801  1.0  4.15  ...         -0.000303        0.007987      0\n",
            "54   10.114744  1.0  4.13  ...         -0.000303        0.007987      0\n",
            "55   10.134085  1.0  4.08  ...         -0.000303        0.007987      0\n",
            "56   10.118988  1.0  4.12  ...         -0.000303        0.007987      0\n",
            "57   10.118988  1.0  4.12  ...         -0.000303        0.007987      0\n",
            "58   10.142591  1.0  4.37  ...         -0.000303        0.007987      0\n",
            "59   10.125155  1.0  4.39  ...         -0.000303        0.007987      0\n",
            "60   10.091521  1.0  4.42  ...         -0.000303        0.007987      0\n",
            "61   10.118088  1.0  4.44  ...         -0.000303        0.007987      0\n",
            "62   10.119443  1.0  4.44  ...         -0.000303        0.007987      0\n",
            "63   10.147749  1.0  4.48  ...         -0.000303        0.007987      0\n",
            "64   10.175076  1.0  4.44  ...         -0.000303        0.007987      0\n",
            "65   10.187117  1.0  4.48  ...         -0.000303        0.007987      0\n",
            "66   10.182565  1.0  4.41  ...         -0.000303        0.007987      0\n",
            "67   10.197885  1.0  4.42  ...         -0.000303        0.007987      0\n",
            "68   10.214043  1.0  4.41  ...         -0.000303        0.007987      0\n",
            "69   10.145510  1.0  4.44  ...         -0.000303        0.007987      0\n",
            "70   10.131544  1.0  4.46  ...         -0.000303        0.007987      0\n",
            "71   10.143480  1.0  4.46  ...         -0.000303        0.007987      0\n",
            "72   10.221398  1.0  4.46  ...         -0.000303        0.007987      0\n",
            "73   10.240293  1.0  4.48  ...         -0.000303        0.007987      0\n",
            "74   10.216777  1.0  4.55  ...         -0.000303        0.007987      0\n",
            "75   10.222091  1.0  4.55  ...         -0.000303        0.007987      0\n",
            "76   10.153240  1.0  4.50  ...         -0.000303        0.007987      0\n",
            "77   10.206878  1.0  4.55  ...         -0.000303        0.007987      0\n",
            "78   10.177449  1.0  4.46  ...         -0.000303        0.007987      0\n",
            "79   10.192695  1.0  4.69  ...         -0.000303        0.007987      0\n",
            "80   10.166735  1.0  4.61  ...         -0.000303        0.007987      0\n",
            "81   10.049882  1.0  4.61  ...         -0.000303        0.007987     -1\n",
            "82   10.015813  1.0  4.65  ...         -0.000303        0.007987      0\n",
            "83    9.980557  1.0  4.59  ...         -0.000303        0.007987      0\n",
            "84    9.973374  1.0  4.52  ...         -0.000303        0.007987      0\n",
            "85    9.981151  1.0  4.50  ...         -0.000303        0.007987      0\n",
            "86    9.977399  1.0  4.50  ...         -0.000303        0.007987      0\n",
            "87   10.054371  1.0  4.39  ...         -0.000303        0.007987      1\n",
            "88    9.989616  1.0  4.35  ...         -0.000303        0.007987      0\n",
            "89    9.985717  1.0  4.26  ...         -0.000303        0.007987      0\n",
            "90    9.985667  1.0  4.24  ...         -0.000303        0.007987      0\n",
            "91    9.983396  1.0  4.29  ...         -0.000303        0.007987      0\n",
            "92    9.966104  1.0  4.24  ...         -0.000303        0.007987      0\n",
            "93    9.954596  1.0  4.24  ...         -0.000303        0.007987      0\n",
            "94    9.942752  1.0  4.24  ...         -0.000303        0.007987      0\n",
            "95    9.923193  1.0  4.24  ...         -0.000303        0.007987      0\n",
            "96    9.923193  1.0  4.24  ...         -0.000303        0.007987      0\n",
            "97    9.890321  1.0  4.27  ...         -0.000303        0.007987      0\n",
            "98    9.950127  1.0  4.31  ...         -0.000303        0.007987      0\n",
            "99    9.991297  1.0  4.35  ...         -0.000303        0.007987      0\n",
            "100   9.979700  1.0  4.33  ...         -0.000303        0.007987      0\n",
            "101   9.964525  1.0  4.33  ...         -0.000303        0.007987      0\n",
            "\n",
            "[51 rows x 12 columns]              0    1     2  ...  mean_stock_price  sd_stock_price  Class\n",
            "102  61.263416  2.0  3.84  ...         -0.002358        0.013248     -1\n",
            "103  61.475372  2.0  3.83  ...         -0.002358        0.013248      0\n",
            "104  61.028477  2.0  3.87  ...         -0.002358        0.013248      0\n",
            "105  60.897182  2.0  3.87  ...         -0.002358        0.013248      0\n",
            "106  60.696373  2.0  3.89  ...         -0.002358        0.013248      0\n",
            "107  60.585083  2.0  3.89  ...         -0.002358        0.013248      0\n",
            "108  60.585083  2.0  3.89  ...         -0.002358        0.013248      0\n",
            "109  59.363934  2.0  4.00  ...         -0.002358        0.013248     -1\n",
            "110  58.965595  2.0  3.97  ...         -0.002358        0.013248      0\n",
            "111  58.729080  2.0  4.00  ...         -0.002358        0.013248      0\n",
            "112  58.525654  2.0  4.03  ...         -0.002358        0.013248      0\n",
            "113  58.563210  2.0  4.03  ...         -0.002358        0.013248      0\n",
            "114  58.442936  2.0  4.03  ...         -0.002358        0.013248      0\n",
            "115  58.731651  2.0  4.01  ...         -0.002358        0.013248      0\n",
            "116  59.246822  2.0  3.95  ...         -0.002358        0.013248      0\n",
            "117  60.610275  2.0  3.79  ...         -0.002358        0.013248      1\n",
            "118  60.535244  2.0  3.90  ...         -0.002358        0.013248      0\n",
            "119  60.243164  2.0  3.92  ...         -0.002358        0.013248      0\n",
            "120  60.157043  2.0  3.92  ...         -0.002358        0.013248      0\n",
            "121  59.583885  2.0  3.93  ...         -0.002358        0.013248      0\n",
            "122  59.040504  2.0  4.01  ...         -0.002358        0.013248      0\n",
            "123  59.214851  2.0  3.93  ...         -0.002358        0.013248      0\n",
            "124  59.171841  2.0  4.00  ...         -0.002358        0.013248      0\n",
            "125  58.712765  2.0  4.04  ...         -0.002358        0.013248      0\n",
            "126  58.191723  2.0  4.06  ...         -0.002358        0.013248      0\n",
            "127  58.437607  2.0  4.02  ...         -0.002358        0.013248      0\n",
            "128  58.676472  2.0  4.01  ...         -0.002358        0.013248      0\n",
            "129  58.539021  2.0  4.03  ...         -0.002358        0.013248      0\n",
            "130  56.806675  2.0  4.18  ...         -0.002358        0.013248     -1\n",
            "131  57.109848  2.0  4.10  ...         -0.002358        0.013248      0\n",
            "132  56.451576  2.0  4.21  ...         -0.002358        0.013248      0\n",
            "133  56.247047  2.0  4.19  ...         -0.002358        0.013248      0\n",
            "134  56.138050  2.0  4.19  ...         -0.002358        0.013248      0\n",
            "135  55.761040  2.0  4.26  ...         -0.002358        0.013248      0\n",
            "136  55.363472  2.0  4.26  ...         -0.002358        0.013248      0\n",
            "137  55.494488  2.0  4.26  ...         -0.002358        0.013248      0\n",
            "138  54.977901  2.0  4.26  ...         -0.002358        0.013248      0\n",
            "139  55.631760  2.0  4.23  ...         -0.002358        0.013248      1\n",
            "140  56.281395  2.0  4.20  ...         -0.002358        0.013248      1\n",
            "141  56.078243  2.0  4.20  ...         -0.002358        0.013248      0\n",
            "142  56.075111  2.0  4.21  ...         -0.002358        0.013248      0\n",
            "143  56.026943  2.0  4.20  ...         -0.002358        0.013248      0\n",
            "144  56.167484  2.0  4.20  ...         -0.002358        0.013248      0\n",
            "145  55.738228  2.0  4.20  ...         -0.002358        0.013248      0\n",
            "146  56.017662  2.0  4.21  ...         -0.002358        0.013248      0\n",
            "147  55.389175  2.0  4.26  ...         -0.002358        0.013248      0\n",
            "148  54.592793  2.0  4.35  ...         -0.002358        0.013248      0\n",
            "149  54.416393  2.0  4.35  ...         -0.002358        0.013248      0\n",
            "150  54.169731  2.0  4.34  ...         -0.002358        0.013248      0\n",
            "151  54.705608  2.0  4.30  ...         -0.002358        0.013248      0\n",
            "152  54.662212  2.0  4.34  ...         -0.002358        0.013248      0\n",
            "\n",
            "[51 rows x 12 columns]              0    1     2  ...  mean_stock_price  sd_stock_price  Class\n",
            "153   9.588154  3.0  3.04  ...          0.000901        0.020243     -1\n",
            "154   9.892174  3.0  2.88  ...          0.000901        0.020243      1\n",
            "155   9.999135  3.0  2.88  ...          0.000901        0.020243      0\n",
            "156  10.051615  3.0  2.86  ...          0.000901        0.020243      0\n",
            "157  10.185206  3.0  2.85  ...          0.000901        0.020243      0\n",
            "158  10.040614  3.0  2.92  ...          0.000901        0.020243      0\n",
            "159  10.040614  3.0  2.92  ...          0.000901        0.020243      0\n",
            "160   9.842842  3.0  3.00  ...          0.000901        0.020243     -1\n",
            "161   9.698602  3.0  2.99  ...          0.000901        0.020243      0\n",
            "162   9.745857  3.0  2.97  ...          0.000901        0.020243      0\n",
            "163   9.726055  3.0  3.02  ...          0.000901        0.020243      0\n",
            "164   9.681237  3.0  3.02  ...          0.000901        0.020243      0\n",
            "165   9.727424  3.0  2.98  ...          0.000901        0.020243      0\n",
            "166   9.878164  3.0  2.93  ...          0.000901        0.020243      0\n",
            "167   9.929140  3.0  2.92  ...          0.000901        0.020243      0\n",
            "168  10.193039  3.0  2.81  ...          0.000901        0.020243      1\n",
            "169  10.476460  3.0  2.73  ...          0.000901        0.020243      1\n",
            "170  10.647949  3.0  2.69  ...          0.000901        0.020243      0\n",
            "171  10.643973  3.0  2.67  ...          0.000901        0.020243      0\n",
            "172  10.641359  3.0  2.72  ...          0.000901        0.020243      0\n",
            "173  10.363976  3.0  2.83  ...          0.000901        0.020243     -1\n",
            "174  10.010397  3.0  2.92  ...          0.000901        0.020243     -1\n",
            "175  10.081811  3.0  2.86  ...          0.000901        0.020243      0\n",
            "176  10.009418  3.0  2.89  ...          0.000901        0.020243      0\n",
            "177   9.991722  3.0  2.93  ...          0.000901        0.020243      0\n",
            "178   9.965599  3.0  2.92  ...          0.000901        0.020243      0\n",
            "179   9.973930  3.0  2.92  ...          0.000901        0.020243      0\n",
            "180  10.113053  3.0  2.86  ...          0.000901        0.020243      0\n",
            "181   9.849288  3.0  3.04  ...          0.000901        0.020243     -1\n",
            "182   9.907092  3.0  2.97  ...          0.000901        0.020243      0\n",
            "183   9.594706  3.0  3.06  ...          0.000901        0.020243     -1\n",
            "184   9.505667  3.0  3.08  ...          0.000901        0.020243      0\n",
            "185   9.591318  3.0  3.07  ...          0.000901        0.020243      0\n",
            "186   9.625202  3.0  3.07  ...          0.000901        0.020243      0\n",
            "187   9.665678  3.0  3.00  ...          0.000901        0.020243      0\n",
            "188   9.688619  3.0  3.00  ...          0.000901        0.020243      0\n",
            "189   9.783409  3.0  2.98  ...          0.000901        0.020243      0\n",
            "190   9.783409  3.0  2.98  ...          0.000901        0.020243      0\n",
            "191   9.775876  3.0  3.00  ...          0.000901        0.020243      0\n",
            "192   9.677647  3.0  3.03  ...          0.000901        0.020243      0\n",
            "193   9.659449  3.0  3.00  ...          0.000901        0.020243      0\n",
            "194   9.674109  3.0  3.04  ...          0.000901        0.020243      0\n",
            "195   9.647421  3.0  3.03  ...          0.000901        0.020243      0\n",
            "196   9.644221  3.0  3.06  ...          0.000901        0.020243      0\n",
            "197   9.644221  3.0  3.06  ...          0.000901        0.020243      0\n",
            "198   9.513966  3.0  3.08  ...          0.000901        0.020243      0\n",
            "199   9.597919  3.0  3.03  ...          0.000901        0.020243      0\n",
            "200   9.618376  3.0  3.04  ...          0.000901        0.020243      0\n",
            "201   9.714606  3.0  2.97  ...          0.000901        0.020243      0\n",
            "202   9.929140  3.0  2.92  ...          0.000901        0.020243      1\n",
            "203   9.875162  3.0  2.94  ...          0.000901        0.020243      0\n",
            "\n",
            "[51 rows x 12 columns]               0    1     2  ...  mean_stock_price  sd_stock_price  Class\n",
            "204  232.514694  4.0  3.93  ...         -0.001498        0.021254     -1\n",
            "205  230.998657  4.0  3.91  ...         -0.001498        0.021254      0\n",
            "206  235.925842  4.0  3.82  ...         -0.001498        0.021254      1\n",
            "207  234.942307  4.0  3.89  ...         -0.001498        0.021254      0\n",
            "208  229.150742  4.0  4.04  ...         -0.001498        0.021254     -1\n",
            "209  224.537277  4.0  4.08  ...         -0.001498        0.021254      0\n",
            "210  224.537277  4.0  4.08  ...         -0.001498        0.021254      0\n",
            "211  223.957764  4.0  4.07  ...         -0.001498        0.021254      0\n",
            "212  226.752945  4.0  4.00  ...         -0.001498        0.021254      0\n",
            "213  228.040497  4.0  4.03  ...         -0.001498        0.021254      0\n",
            "214  223.304672  4.0  4.11  ...         -0.001498        0.021254      0\n",
            "215  223.300400  4.0  4.10  ...         -0.001498        0.021254      0\n",
            "216  222.806137  4.0  4.05  ...         -0.001498        0.021254      0\n",
            "217  226.725052  4.0  4.01  ...         -0.001498        0.021254      0\n",
            "218  227.230545  4.0  3.99  ...         -0.001498        0.021254      0\n",
            "219  227.553040  4.0  4.00  ...         -0.001498        0.021254      0\n",
            "220  223.740631  4.0  4.07  ...         -0.001498        0.021254      0\n",
            "221  226.855286  4.0  3.98  ...         -0.001498        0.021254      0\n",
            "222  226.391235  4.0  4.04  ...         -0.001498        0.021254      0\n",
            "223  225.665298  4.0  4.07  ...         -0.001498        0.021254      0\n",
            "224  225.213898  4.0  4.07  ...         -0.001498        0.021254      0\n",
            "225  223.805328  4.0  4.04  ...         -0.001498        0.021254      0\n",
            "226  222.349335  4.0  4.11  ...         -0.001498        0.021254      0\n",
            "227  213.715042  4.0  4.37  ...         -0.001498        0.021254     -1\n",
            "228  208.666626  4.0  4.44  ...         -0.001498        0.021254     -1\n",
            "229  205.348404  4.0  4.49  ...         -0.001498        0.021254      0\n",
            "230  209.287903  4.0  4.36  ...         -0.001498        0.021254      0\n",
            "231  212.135574  4.0  4.29  ...         -0.001498        0.021254      0\n",
            "232  208.636963  4.0  4.51  ...         -0.001498        0.021254      0\n",
            "233  209.488174  4.0  4.41  ...         -0.001498        0.021254      0\n",
            "234  200.351364  4.0  4.62  ...         -0.001498        0.021254     -1\n",
            "235  196.278076  4.0  4.68  ...         -0.001498        0.021254      0\n",
            "236  196.532196  4.0  4.67  ...         -0.001498        0.021254      0\n",
            "237  197.445633  4.0  4.69  ...         -0.001498        0.021254      0\n",
            "238  196.742325  4.0  4.68  ...         -0.001498        0.021254      0\n",
            "239  199.387848  4.0  4.56  ...         -0.001498        0.021254      0\n",
            "240  203.205734  4.0  4.48  ...         -0.001498        0.021254      0\n",
            "241  206.647415  4.0  4.43  ...         -0.001498        0.021254      0\n",
            "242  205.038284  4.0  4.48  ...         -0.001498        0.021254      0\n",
            "243  202.765701  4.0  4.56  ...         -0.001498        0.021254      0\n",
            "244  203.156235  4.0  4.50  ...         -0.001498        0.021254      0\n",
            "245  210.682266  4.0  4.28  ...         -0.001498        0.021254      1\n",
            "246  217.851868  4.0  4.19  ...         -0.001498        0.021254      1\n",
            "247  214.432190  4.0  4.32  ...         -0.001498        0.021254      0\n",
            "248  215.595306  4.0  4.21  ...         -0.001498        0.021254      0\n",
            "249  216.355560  4.0  4.21  ...         -0.001498        0.021254      0\n",
            "250  214.655884  4.0  4.29  ...         -0.001498        0.021254      0\n",
            "251  216.131226  4.0  4.24  ...         -0.001498        0.021254      0\n",
            "252  215.061447  4.0  4.28  ...         -0.001498        0.021254      0\n",
            "253  214.607239  4.0  4.27  ...         -0.001498        0.021254      0\n",
            "254  214.736252  4.0  4.28  ...         -0.001498        0.021254      0\n",
            "\n",
            "[51 rows x 12 columns]\n"
          ],
          "name": "stdout"
        }
      ]
    },
    {
      "cell_type": "code",
      "metadata": {
        "id": "EI0WW4EFvpwY"
      },
      "source": [
        "##算出各股50天情形(WRONG_ORIGINAL)\n",
        "#def  class_classification(data,data2):\n",
        "  #data[\"lag_stock_price\"]=data[0].shift(1)\n",
        "  ##算出平均、sd、ercent_change_stock_price\n",
        "  #data['percent_change_stock_price']= (data[0]-data[\"lag_stock_price\"])/data[\"lag_stock_price\"]\n",
        "  #data[\"mean_stock_price\"]=data['percent_change_stock_price'].mean()\n",
        "  #data[\"sd_stock_price\"]=data['percent_change_stock_price'].std()\n",
        "\n",
        "  #data2[\"lag_stock_price\"]=data2[0].shift(1)\n",
        "  #data2['percent_change_stock_price']= (data2[0]-data2[\"lag_stock_price\"])/data2[\"lag_stock_price\"]\n",
        "  #data2['mean_stock_price']=data[\"mean_stock_price\"]\n",
        "  #data2['sd_stock_price']=data[\"sd_stock_price\"]\n",
        "  ##算出漲跌持平class\n",
        "  #for i in range(1,len(data2)):\n",
        "    #if  (data2.iloc[i,:]['percent_change_stock_price'] >(data2.iloc[i,:][\"mean_stock_price\"]+data2.iloc[i,:][\"sd_stock_price\"])):\n",
        "        #data2.iloc[i,:]['class'] = 1\n",
        "    #elif (data2.iloc[i,:]['percent_change_stock_price']>=(data2.iloc[i,:][\"mean_stock_price\"]-data2.iloc[i,:][\"sd_stock_price\"])):\n",
        "        #data2.iloc[i,data2.columns.get_loc('class')] = 0\n",
        "    #else: \n",
        "        #data2.iloc[i,:]['class'] = -1\n",
        "  #return data2\n"
      ],
      "execution_count": null,
      "outputs": []
    }
  ]
}