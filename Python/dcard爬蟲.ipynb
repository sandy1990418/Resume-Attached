{
  "nbformat": 4,
  "nbformat_minor": 0,
  "metadata": {
    "colab": {
      "name": "deep_learning - dcard  web crawler",
      "provenance": []
    },
    "kernelspec": {
      "name": "python3",
      "display_name": "Python 3"
    }
  },
  "cells": [
    {
      "cell_type": "markdown",
      "metadata": {
        "id": "gHyH-oJiXtj5",
        "colab_type": "text"
      },
      "source": [
        "# 從dcard感情版中抓取留言的性別比例\n",
        "\n",
        "\n"
      ]
    },
    {
      "cell_type": "code",
      "metadata": {
        "id": "AUOWU3ZYXi3n",
        "colab_type": "code",
        "outputId": "e4eab32c-3ff6-4ba5-b60c-009ad599340f",
        "colab": {
          "base_uri": "https://localhost:8080/",
          "height": 304
        }
      },
      "source": [
        "!pip install requests\n",
        "!pip install dcard-spider\n",
        "!pip install python-dateutil\n",
        "!git clone https://github.com/leVirve/dcard-spider\n",
        "from dcard import Dcard\n",
        "import datetime\n",
        "from collections import defaultdict"
      ],
      "execution_count": 0,
      "outputs": [
        {
          "output_type": "stream",
          "text": [
            "Requirement already satisfied: requests in /usr/local/lib/python3.6/dist-packages (2.21.0)\n",
            "Requirement already satisfied: idna<2.9,>=2.5 in /usr/local/lib/python3.6/dist-packages (from requests) (2.8)\n",
            "Requirement already satisfied: chardet<3.1.0,>=3.0.2 in /usr/local/lib/python3.6/dist-packages (from requests) (3.0.4)\n",
            "Requirement already satisfied: urllib3<1.25,>=1.21.1 in /usr/local/lib/python3.6/dist-packages (from requests) (1.24.3)\n",
            "Requirement already satisfied: certifi>=2017.4.17 in /usr/local/lib/python3.6/dist-packages (from requests) (2019.11.28)\n",
            "Requirement already satisfied: dcard-spider in /usr/local/lib/python3.6/dist-packages (0.3.0)\n",
            "Requirement already satisfied: six in /usr/local/lib/python3.6/dist-packages (from dcard-spider) (1.12.0)\n",
            "Requirement already satisfied: requests in /usr/local/lib/python3.6/dist-packages (from dcard-spider) (2.21.0)\n",
            "Requirement already satisfied: idna<2.9,>=2.5 in /usr/local/lib/python3.6/dist-packages (from requests->dcard-spider) (2.8)\n",
            "Requirement already satisfied: urllib3<1.25,>=1.21.1 in /usr/local/lib/python3.6/dist-packages (from requests->dcard-spider) (1.24.3)\n",
            "Requirement already satisfied: chardet<3.1.0,>=3.0.2 in /usr/local/lib/python3.6/dist-packages (from requests->dcard-spider) (3.0.4)\n",
            "Requirement already satisfied: certifi>=2017.4.17 in /usr/local/lib/python3.6/dist-packages (from requests->dcard-spider) (2019.11.28)\n",
            "Requirement already satisfied: python-dateutil in /usr/local/lib/python3.6/dist-packages (2.6.1)\n",
            "Requirement already satisfied: six>=1.5 in /usr/local/lib/python3.6/dist-packages (from python-dateutil) (1.12.0)\n",
            "fatal: destination path 'dcard-spider' already exists and is not an empty directory.\n"
          ],
          "name": "stdout"
        }
      ]
    },
    {
      "cell_type": "code",
      "metadata": {
        "id": "Ax6LCjqiXi_d",
        "colab_type": "code",
        "colab": {}
      },
      "source": [
        "from __future__ import unicode_literals, absolute_import\n",
        "import logging\n",
        "\n",
        "from dcard.api import api\n",
        "from dcard.posts import Post\n",
        "from dcard.utils import flatten_lists\n",
        "class Forum:\n",
        "    metas_per_page = 30\n",
        "    infinite_page = -1\n",
        "\n",
        "    def __init__(self, name=None):\n",
        "        self.name = name\n",
        "        self.api = api\n",
        "\n",
        "    def __call__(self, name):\n",
        "        self.name = name\n",
        "        return self\n",
        "\n",
        "    def get_metas(\n",
        "            self, num=30, sort='new', before=None, timebound=None,\n",
        "            callback=None):\n",
        "        logger.info('<%s> 開始取得看板內文章資訊', self.name)\n",
        "\n",
        "        paged_metas = self.api.get_metas(\n",
        "            self.name, sort, num, before, timebound)\n",
        "\n",
        "        buff = flatten_lists(metas for metas in paged_metas)\n",
        "        results = callback(buff) if callback else buff\n",
        "\n",
        "        logger.info('<%s> 資訊蒐集完成，共%d筆', self.name, len(buff))\n",
        "        return results\n",
        "\n",
        "    def get(self, no_school=False):\n",
        "        if no_school:\n",
        "            return self.api.get_general_forums()\n",
        "        return self.api.get_all_forums()\n"
      ],
      "execution_count": 0,
      "outputs": []
    },
    {
      "cell_type": "code",
      "metadata": {
        "id": "erzRT3Otvyia",
        "colab_type": "code",
        "outputId": "6dab8b56-2dee-42a8-b9bb-8b1e77aabd05",
        "colab": {
          "base_uri": "https://localhost:8080/",
          "height": 52
        }
      },
      "source": [
        "import datetime\n",
        "from collections import defaultdict\n",
        "from dcard import Dcard\n",
        "dcard = Dcard()\n",
        "analyzed_result = defaultdict(lambda: 0)\n",
        "target_date = datetime.datetime.utcnow() - datetime.timedelta(days=1) \n",
        "def filter_hot(metas):\n",
        "    return [meta for meta in metas if meta['likeCount'] >= 100]\n",
        "metas = dcard.forums('relationship').get_metas(\n",
        "            num=dcard.forums.infinite_page,  \n",
        "            timebound=target_date.isoformat(),  \n",
        "            callback=filter_hot  \n",
        "        )\n",
        "print('Collect %d metas' % len(metas))\n",
        "articles = dcard.posts(metas).get(content=False, links=False)\n",
        "# 分析\n",
        "for article in articles.result():\n",
        "    for comment in article['comments']:\n",
        "        analyzed_result[comment.get('gender')] += 1\n",
        "print(analyzed_result)"
      ],
      "execution_count": 0,
      "outputs": [
        {
          "output_type": "stream",
          "text": [
            "Collect 14 metas\n",
            "defaultdict(<function <lambda> at 0x7fec0e7b3d90>, {'M': 560, 'F': 713, None: 29, 'D': 7})\n"
          ],
          "name": "stdout"
        }
      ]
    }
  ]
}