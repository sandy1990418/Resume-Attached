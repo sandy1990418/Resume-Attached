{
  "nbformat": 4,
  "nbformat_minor": 0,
  "metadata": {
    "colab": {
      "name": "RNN情意分析.ipynb",
      "provenance": [],
      "collapsed_sections": []
    },
    "kernelspec": {
      "name": "python3",
      "display_name": "Python 3"
    },
    "accelerator": "TPU"
  },
  "cells": [
    {
      "cell_type": "code",
      "metadata": {
        "id": "quv6eiIS92K3",
        "colab_type": "code",
        "colab": {}
      },
      "source": [
        "%tensorflow_version 2.x"
      ],
      "execution_count": 0,
      "outputs": []
    },
    {
      "cell_type": "code",
      "metadata": {
        "id": "U83Mhvv9-CQl",
        "colab_type": "code",
        "colab": {}
      },
      "source": [
        "%matplotlib inline\n",
        "import numpy as np\n",
        "import matplotlib.pyplot as plt\n",
        "import pandas as py"
      ],
      "execution_count": 0,
      "outputs": []
    },
    {
      "cell_type": "code",
      "metadata": {
        "id": "OdpAAzOz-CS-",
        "colab_type": "code",
        "colab": {}
      },
      "source": [
        "from  tensorflow.keras.preprocessing import sequence\n",
        "from  tensorflow.keras.models import Sequential\n",
        "from  tensorflow.keras.layers import Dense,Embedding, Dropout, Activation\n",
        "from  tensorflow.keras.layers import LSTM,GRU\n",
        "from  tensorflow.keras.layers import Conv1D, MaxPooling1D\n",
        "from  tensorflow.keras.datasets import imdb"
      ],
      "execution_count": 0,
      "outputs": []
    },
    {
      "cell_type": "code",
      "metadata": {
        "id": "QGo3aFuB-CVH",
        "colab_type": "code",
        "outputId": "d3debed1-c244-4b67-c56a-70c0ee2313ad",
        "colab": {
          "base_uri": "https://localhost:8080/",
          "height": 51
        }
      },
      "source": [
        "(x_train,y_train) ,(x_test,y_test) = imdb.load_data(num_words = 10000)"
      ],
      "execution_count": 4,
      "outputs": [
        {
          "output_type": "stream",
          "text": [
            "Downloading data from https://storage.googleapis.com/tensorflow/tf-keras-datasets/imdb.npz\n",
            "17465344/17464789 [==============================] - 0s 0us/step\n"
          ],
          "name": "stdout"
        }
      ]
    },
    {
      "cell_type": "code",
      "metadata": {
        "id": "bCax8SWp-CXL",
        "colab_type": "code",
        "colab": {}
      },
      "source": [
        "##看頻率最高的450個字\n",
        "max_words = 450\n",
        "\n",
        "\n",
        "x_train = sequence.pad_sequences(x_train,maxlen = max_words)\n",
        "x_test  = sequence.pad_sequences(x_test,maxlen=max_words)"
      ],
      "execution_count": 0,
      "outputs": []
    },
    {
      "cell_type": "code",
      "metadata": {
        "id": "pWlJpneY-CZi",
        "colab_type": "code",
        "outputId": "19c9f6d1-8c2b-4d6c-915d-53425b268fbf",
        "colab": {
          "base_uri": "https://localhost:8080/",
          "height": 301
        }
      },
      "source": [
        "##model 1 \n",
        "\n",
        "\n",
        "##修改LSTM變成GRU\n",
        "##修改dropout、修改recurrent_dropout\n",
        "##修改EPOCH\n",
        "##修改BATCH_SIZE =128\n",
        "\n",
        "model = Sequential()\n",
        "model.add(Embedding(10000,128))\n",
        "model.add(GRU(256, dropout=0.4, recurrent_dropout=0.25))\n",
        "model.add(Dense(500, activation='relu'))\n",
        "model.add(Dense(1, activation='sigmoid'))\n",
        "model.compile(loss='binary_crossentropy', optimizer='adam', metrics=['accuracy'])\n",
        "model.summary()"
      ],
      "execution_count": 0,
      "outputs": [
        {
          "output_type": "stream",
          "text": [
            "Model: \"sequential\"\n",
            "_________________________________________________________________\n",
            "Layer (type)                 Output Shape              Param #   \n",
            "=================================================================\n",
            "embedding (Embedding)        (None, None, 128)         1280000   \n",
            "_________________________________________________________________\n",
            "gru (GRU)                    (None, 256)               296448    \n",
            "_________________________________________________________________\n",
            "dense (Dense)                (None, 500)               128500    \n",
            "_________________________________________________________________\n",
            "dense_1 (Dense)              (None, 1)                 501       \n",
            "=================================================================\n",
            "Total params: 1,705,449\n",
            "Trainable params: 1,705,449\n",
            "Non-trainable params: 0\n",
            "_________________________________________________________________\n"
          ],
          "name": "stdout"
        }
      ]
    },
    {
      "cell_type": "code",
      "metadata": {
        "id": "X8a-iptr-Cbl",
        "colab_type": "code",
        "outputId": "dc9465f2-e8ba-44eb-a481-d1b05ba8b307",
        "colab": {
          "base_uri": "https://localhost:8080/",
          "height": 212
        }
      },
      "source": [
        "model.fit(x_train, y_train, validation_data=(x_test, y_test),epochs=5, batch_size=128)"
      ],
      "execution_count": 0,
      "outputs": [
        {
          "output_type": "stream",
          "text": [
            "Epoch 1/5\n",
            "196/196 [==============================] - 1331s 7s/step - loss: 0.5232 - accuracy: 0.7246 - val_loss: 0.3401 - val_accuracy: 0.8587\n",
            "Epoch 2/5\n",
            "196/196 [==============================] - 1329s 7s/step - loss: 0.2846 - accuracy: 0.8850 - val_loss: 0.4894 - val_accuracy: 0.8412\n",
            "Epoch 3/5\n",
            "196/196 [==============================] - 1304s 7s/step - loss: 0.2327 - accuracy: 0.9087 - val_loss: 0.3180 - val_accuracy: 0.8670\n",
            "Epoch 4/5\n",
            "196/196 [==============================] - 1291s 7s/step - loss: 0.1473 - accuracy: 0.9456 - val_loss: 0.3354 - val_accuracy: 0.8666\n",
            "Epoch 5/5\n",
            "196/196 [==============================] - 1303s 7s/step - loss: 0.1061 - accuracy: 0.9607 - val_loss: 0.3853 - val_accuracy: 0.8795\n"
          ],
          "name": "stdout"
        },
        {
          "output_type": "execute_result",
          "data": {
            "text/plain": [
              "<tensorflow.python.keras.callbacks.History at 0x7ff230f4c400>"
            ]
          },
          "metadata": {
            "tags": []
          },
          "execution_count": 7
        }
      ]
    },
    {
      "cell_type": "code",
      "metadata": {
        "id": "rBPFtGo3Ufhj",
        "colab_type": "code",
        "colab": {
          "base_uri": "https://localhost:8080/",
          "height": 357
        },
        "outputId": "37020bb5-2dfb-478a-c0ff-26dcc75a89be"
      },
      "source": [
        "##model 2 \n",
        "##CNN + LSTM \n",
        "\n",
        "#######    First layer    ####### \n",
        "####  Embedding(can only be the first layer) \n",
        "#Meaning : turn  positive integer into vector of fixed size \n",
        "#Parameter : \n",
        "#1.input_dim = 大於等於0的整數，dic長度\n",
        "#2.output_dim = 大於等於0的整數，dense Embedding維度\n",
        "#3.input_length:當輸入的序列長度固定，此數值則為該序列長度，Flatten層前為此層再來才為Dense層\n",
        "\n",
        "\n",
        "#######    Second layer    ####### \n",
        "####  Dropout (目的是避免神經網路記答案(overfitting)) \n",
        "#Parameter:\n",
        "#1.rate = 在0-1之間的數值，表示需要丟棄的input比例\n",
        "#2.seed = 隨機整數(作用與r的set seed相同)\n",
        "\n",
        "#######    Third layer    ####### \n",
        "####  Conv1D(ex time series convolutional layer)\n",
        "#Parameter:\n",
        "#1.filter = integer ,dimension of  output space\n",
        "#2.kernal_size = integer , specifying the length of the 1D convolution window\n",
        "#3.strides = integer ,length of the convolution\n",
        "#4.padding='valid'=>輸出矩陣大小不用一樣\n",
        "\n",
        "#######    Fourth layer    ####### \n",
        "#### MaxPooling1D\n",
        "#Meaning :Max pooling operation for temporal data\n",
        "#Parameter:\n",
        "#1.pooling size= integer ,size of the max pooling windows.\n",
        "\n",
        "\n",
        "\n",
        "\n",
        "max_input_dim = 10000\n",
        "maxlen = 200\n",
        "embedding_size = 128\n",
        "kernel_size = 50\n",
        "filters = 32\n",
        "pool_size = 3\n",
        "\n",
        "model2 = Sequential()\n",
        "model2.add(Embedding(max_input_dim, embedding_size, input_length=maxlen))\n",
        "model2.add(Dropout(0.3))\n",
        "model2.add(Conv1D(filters,kernel_size,padding='valid',activation='relu',strides=1))\n",
        "model2.add(MaxPooling1D(pool_size=pool_size))\n",
        "model2.add(LSTM(128))\n",
        "model2.add(Dense(1, activation='sigmoid'))\n",
        "model2.compile(loss='binary_crossentropy', optimizer='adam', metrics=['accuracy'])\n",
        "model2.summary()\n",
        "\n",
        "\n",
        "\n",
        "##計算每層\n",
        "\n",
        "# embedding_2 input layer  (1) input: (None,200) (2)output:(None,200)  \n",
        "# embedding_2 embedding  (1) input: (None,200) (2)output:(None,200,128) {Param  = 10000維*128  因為標準embeding 只做線性的(=不做bias)}\n",
        "# dropout  (1) input: (None,200,128) (2)output:(None,200,128)\n",
        "# Conv1D  (1) input: (None,200,128) (2)output:(None,151,32)  {Param = (50*128+1)*32}\n",
        "# max_pooling1D  (1) input: (None,151,32) (2)output:(None, 50, 32)   \n",
        "# LSTM  (1) input: (None,50,32) (2)output:(None,128) {(128+32+1)*4*128}\n",
        "# Dense  (1) input: (None,128) (2)output:(None,1)    {128+1(bias)=129}\n",
        "\n"
      ],
      "execution_count": 11,
      "outputs": [
        {
          "output_type": "stream",
          "text": [
            "Model: \"sequential_2\"\n",
            "_________________________________________________________________\n",
            "Layer (type)                 Output Shape              Param #   \n",
            "=================================================================\n",
            "embedding_2 (Embedding)      (None, 200, 128)          1280000   \n",
            "_________________________________________________________________\n",
            "dropout_1 (Dropout)          (None, 200, 128)          0         \n",
            "_________________________________________________________________\n",
            "conv1d_1 (Conv1D)            (None, 151, 32)           204832    \n",
            "_________________________________________________________________\n",
            "max_pooling1d_1 (MaxPooling1 (None, 50, 32)            0         \n",
            "_________________________________________________________________\n",
            "lstm_1 (LSTM)                (None, 128)               82432     \n",
            "_________________________________________________________________\n",
            "dense_1 (Dense)              (None, 1)                 129       \n",
            "=================================================================\n",
            "Total params: 1,567,393\n",
            "Trainable params: 1,567,393\n",
            "Non-trainable params: 0\n",
            "_________________________________________________________________\n"
          ],
          "name": "stdout"
        }
      ]
    },
    {
      "cell_type": "code",
      "metadata": {
        "id": "oJiac0CZUfpL",
        "colab_type": "code",
        "colab": {
          "base_uri": "https://localhost:8080/",
          "height": 173
        },
        "outputId": "e69d27e0-0df6-4a7d-de15-655b1517195e"
      },
      "source": [
        "model2.fit(x_train, y_train, validation_data=(x_test, y_test),epochs=2, batch_size=256)"
      ],
      "execution_count": 12,
      "outputs": [
        {
          "output_type": "stream",
          "text": [
            "Epoch 1/2\n",
            "WARNING:tensorflow:Model was constructed with shape (None, 200) for input Tensor(\"embedding_2_input:0\", shape=(None, 200), dtype=float32), but it was called on an input with incompatible shape (None, 450).\n",
            "WARNING:tensorflow:Model was constructed with shape (None, 200) for input Tensor(\"embedding_2_input:0\", shape=(None, 200), dtype=float32), but it was called on an input with incompatible shape (None, 450).\n",
            "98/98 [==============================] - ETA: 0s - loss: 0.4322 - accuracy: 0.7875WARNING:tensorflow:Model was constructed with shape (None, 200) for input Tensor(\"embedding_2_input:0\", shape=(None, 200), dtype=float32), but it was called on an input with incompatible shape (None, 450).\n",
            "98/98 [==============================] - 589s 6s/step - loss: 0.4322 - accuracy: 0.7875 - val_loss: 0.3250 - val_accuracy: 0.8599\n",
            "Epoch 2/2\n",
            "98/98 [==============================] - 592s 6s/step - loss: 0.2280 - accuracy: 0.9126 - val_loss: 0.3169 - val_accuracy: 0.8698\n"
          ],
          "name": "stdout"
        },
        {
          "output_type": "execute_result",
          "data": {
            "text/plain": [
              "<tensorflow.python.keras.callbacks.History at 0x7f9301080240>"
            ]
          },
          "metadata": {
            "tags": []
          },
          "execution_count": 12
        }
      ]
    }
  ]
}