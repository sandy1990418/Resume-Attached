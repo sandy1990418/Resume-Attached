{
  "nbformat": 4,
  "nbformat_minor": 0,
  "metadata": {
    "colab": {
      "name": "fashion_mnist_cnn.ipynb",
      "provenance": [],
      "collapsed_sections": []
    },
    "kernelspec": {
      "name": "python3",
      "display_name": "Python 3"
    },
    "accelerator": "TPU"
  },
  "cells": [
    {
      "cell_type": "code",
      "metadata": {
        "id": "neLl0a6gUVop",
        "colab_type": "code",
        "outputId": "f0504902-f384-40d0-8232-864097b44c7e",
        "colab": {
          "base_uri": "https://localhost:8080/",
          "height": 88
        }
      },
      "source": [
        "%tensorflow_version \n",
        "%tensorflow_version 2.x"
      ],
      "execution_count": 1,
      "outputs": [
        {
          "output_type": "stream",
          "text": [
            "Currently selected TF version: 2.x\n",
            "Available versions:\n",
            "* 1.x\n",
            "* 2.x\n"
          ],
          "name": "stdout"
        }
      ]
    },
    {
      "cell_type": "code",
      "metadata": {
        "id": "5e_QwePKUca6",
        "colab_type": "code",
        "colab": {}
      },
      "source": [
        "%matplotlib inline\n",
        "\n",
        "\n",
        "import numpy as np\n",
        "import tensorflow as tf\n",
        "import matplotlib.pyplot as plt\n",
        "from sklearn.model_selection import train_test_split"
      ],
      "execution_count": 0,
      "outputs": []
    },
    {
      "cell_type": "code",
      "metadata": {
        "id": "jShccjhqUchD",
        "colab_type": "code",
        "colab": {
          "base_uri": "https://localhost:8080/",
          "height": 159
        },
        "outputId": "d117c393-0da3-4c97-fd50-97b19443ae5b"
      },
      "source": [
        "##從tensorflow keras datasets中抓出fashion mnist\n",
        "from tensorflow.keras.datasets import fashion_mnist\n",
        "from tensorflow.keras.utils import to_categorical\n",
        "from sklearn.model_selection import KFold\n",
        "##讀取資料\n",
        "(train_images, train_labels), (test_images, test_labels) = fashion_mnist.load_data()"
      ],
      "execution_count": 3,
      "outputs": [
        {
          "output_type": "stream",
          "text": [
            "Downloading data from https://storage.googleapis.com/tensorflow/tf-keras-datasets/train-labels-idx1-ubyte.gz\n",
            "32768/29515 [=================================] - 0s 0us/step\n",
            "Downloading data from https://storage.googleapis.com/tensorflow/tf-keras-datasets/train-images-idx3-ubyte.gz\n",
            "26427392/26421880 [==============================] - 1s 0us/step\n",
            "Downloading data from https://storage.googleapis.com/tensorflow/tf-keras-datasets/t10k-labels-idx1-ubyte.gz\n",
            "8192/5148 [===============================================] - 0s 0us/step\n",
            "Downloading data from https://storage.googleapis.com/tensorflow/tf-keras-datasets/t10k-images-idx3-ubyte.gz\n",
            "4423680/4422102 [==============================] - 0s 0us/step\n"
          ],
          "name": "stdout"
        }
      ]
    },
    {
      "cell_type": "code",
      "metadata": {
        "id": "-W20Vyd-Ucju",
        "colab_type": "code",
        "outputId": "ce8169c1-a4b3-484e-c4b0-82997aaecaf3",
        "colab": {
          "base_uri": "https://localhost:8080/",
          "height": 88
        }
      },
      "source": [
        "print(\n",
        "    \"train images length :\",len(train_images),\n",
        "    \"\\ntrain labels length :\",len(train_labels),\n",
        "    \"\\ntest images length  :\",len(test_images),\n",
        "    \"\\ntest labels length  :\",len(test_labels))"
      ],
      "execution_count": 4,
      "outputs": [
        {
          "output_type": "stream",
          "text": [
            "train images length : 60000 \n",
            "train labels length : 60000 \n",
            "test images length  : 10000 \n",
            "test labels length  : 10000\n"
          ],
          "name": "stdout"
        }
      ]
    },
    {
      "cell_type": "code",
      "metadata": {
        "id": "HeIDW-WGUcmD",
        "colab_type": "code",
        "outputId": "8de1a8c2-07bb-4353-b63c-b9c7745616f4",
        "colab": {
          "base_uri": "https://localhost:8080/",
          "height": 254
        }
      },
      "source": [
        "def graph_show_and_find_the_max_value(n):\n",
        "    f,(ax1, ax2) = plt.subplots(1,2, sharey=True)\n",
        "    ax1.imshow(train_images[n],cmap='Greys')\n",
        "    ax2.imshow(test_images[n],cmap ='Greys')\n",
        "    max_value_images=np.amax(train_images)\n",
        "    max_value_labels=max(train_labels)\n",
        "    shape = train_images.shape\n",
        "    print(\"train images max value  :\" , max_value_images,\n",
        "          \"\\ntrain value max label :\",max_value_labels,\n",
        "          \"\\nshape :\" , shape)\n",
        "\n",
        "\n",
        "\n",
        "##check function can work \n",
        "graph_show_and_find_the_max_value(56)"
      ],
      "execution_count": 5,
      "outputs": [
        {
          "output_type": "stream",
          "text": [
            "train images max value  : 255 \n",
            "train value max label : 9 \n",
            "shape : (60000, 28, 28)\n"
          ],
          "name": "stdout"
        },
        {
          "output_type": "display_data",
          "data": {
            "image/png": "[encoded data removed]",
            "text/plain": [
              "<Figure size 432x288 with 2 Axes>"
            ]
          },
          "metadata": {
            "tags": []
          }
        }
      ]
    },
    {
      "cell_type": "code",
      "metadata": {
        "id": "7mhzwBLoVehp",
        "colab_type": "code",
        "outputId": "6fb8fbd4-90b5-4ee5-b2bd-6fdf598d54dd",
        "colab": {
          "base_uri": "https://localhost:8080/",
          "height": 35
        }
      },
      "source": [
        "train_images.shape[2]"
      ],
      "execution_count": 6,
      "outputs": [
        {
          "output_type": "execute_result",
          "data": {
            "text/plain": [
              "28"
            ]
          },
          "metadata": {
            "tags": []
          },
          "execution_count": 6
        }
      ]
    },
    {
      "cell_type": "code",
      "metadata": {
        "id": "LXyakEIBUcoe",
        "colab_type": "code",
        "colab": {}
      },
      "source": [
        "##reshape datasets (format=(total,dimension1,dimension2,1))\n",
        "def reshape_data(dataset1,dataset2,dataset3):\n",
        "    shape =dataset1.shape\n",
        "    max_value_images=np.amax(dataset1)\n",
        "    train=dataset1.reshape(shape[0],shape[1],shape[2],1)/max_value_images\n",
        "    shape2 =dataset2.shape\n",
        "    max_value_images2=np.amax(dataset2)\n",
        "    validation=dataset2.reshape(shape2[0],shape2[1],shape2[2],1)/max_value_images2\n",
        "    shape3 =dataset3.shape\n",
        "    max_value_images3=np.amax(dataset3)\n",
        "    test=dataset3.reshape(shape3[0],shape2[1],shape3[2],1)/max_value_images3\n",
        "    return train ,validation ,test"
      ],
      "execution_count": 0,
      "outputs": []
    },
    {
      "cell_type": "code",
      "metadata": {
        "id": "x3eUGPtQWVtd",
        "colab_type": "code",
        "colab": {}
      },
      "source": [
        "##splite to two part (train and validation)\n",
        "x_train= train_images[0:49999,:]\n",
        "val_train = train_images[50000:60000,:]\n",
        "\n",
        "x_labels = train_labels[0:49999,]\n",
        "val_labels =  train_labels[50000:60000,]\n",
        "\n",
        "\n",
        "##reshape datasets\n",
        "x_train,val_train,test_images = reshape_data(x_train,val_train,test_images)\n"
      ],
      "execution_count": 0,
      "outputs": []
    },
    {
      "cell_type": "code",
      "metadata": {
        "id": "4Xfy3LI2WV1i",
        "colab_type": "code",
        "outputId": "6b95c3d5-39b3-43c5-a4a3-c2f9cde618c5",
        "colab": {
          "base_uri": "https://localhost:8080/",
          "height": 35
        }
      },
      "source": [
        "val_train.shape"
      ],
      "execution_count": 9,
      "outputs": [
        {
          "output_type": "execute_result",
          "data": {
            "text/plain": [
              "(10000, 28, 28, 1)"
            ]
          },
          "metadata": {
            "tags": []
          },
          "execution_count": 9
        }
      ]
    },
    {
      "cell_type": "code",
      "metadata": {
        "id": "eLu7MSxAWV4A",
        "colab_type": "code",
        "colab": {}
      },
      "source": [
        "##將y labele改成one hot encoding\n",
        "from tensorflow.keras.utils import to_categorical\n",
        "x_labels = to_categorical(x_labels,10)"
      ],
      "execution_count": 0,
      "outputs": []
    },
    {
      "cell_type": "code",
      "metadata": {
        "id": "n5mjm2kFWV6o",
        "colab_type": "code",
        "colab": {}
      },
      "source": [
        "from tensorflow.keras.models import Sequential\n",
        "from tensorflow.keras.layers import Conv2D,MaxPooling2D\n",
        "from tensorflow.keras.layers import Dense ,Flatten\n",
        "from tensorflow.keras.optimizers import SGD "
      ],
      "execution_count": 0,
      "outputs": []
    },
    {
      "cell_type": "code",
      "metadata": {
        "id": "VlQ1n8-ca3ZS",
        "colab_type": "code",
        "colab": {}
      },
      "source": [
        "##STEP 1 打造函數學習機(CNN)\n",
        "\n",
        "#1.修改神經元數量 153\n",
        "#2.修改batch_size數 300\n",
        "#3.修改epochs數 20\n",
        "#4.修改optimizer變成adam\n",
        "#5.loss變成sparse_categorical_crossentropy \n",
        "#6.kernel_initializer變成he_uniform \n",
        "\n",
        "\n",
        "##cnn elements\n",
        "neurons_cnn = 32\n",
        "filter_size = (3,3)\n",
        "neurons_dense = 153\n",
        "activation_function = 'relu'\n",
        "num_classes = 10\n",
        "out_activation_function ='softmax'\n",
        "##多少要回頭驗算\n",
        "batch_size = 300\n",
        "##來回多少次\n",
        "epochs = 20\n",
        "##輸出的矩陣大小相同\n",
        "padding_condition = 'same'\n",
        "##灰階\n",
        "input_shape_grey = (28,28,1)\n",
        "##矩陣切的形狀\n",
        "pool_size = (2,2)\n",
        "\n",
        "\n",
        "def model_building(neurons_for_cnn,yuor_filter_size,neurons_for_dense,input_activation_function,class_number,output_activation_function,your_paading_condition,input_shape_matrix,pool_size_matrix):\n",
        "    model = Sequential()\n",
        "    model.add(Conv2D(neurons_for_cnn,yuor_filter_size,padding=your_paading_condition,input_shape=input_shape_matrix,activation=input_activation_function))\n",
        "    model.add(MaxPooling2D(pool_size = pool_size_matrix))\n",
        "    model.add(Conv2D(64,yuor_filter_size,padding=your_paading_condition,activation=input_activation_function))\n",
        "    model.add(MaxPooling2D(pool_size = pool_size_matrix))\n",
        "    model.add(Conv2D(128,yuor_filter_size,padding=your_paading_condition,activation=input_activation_function))\n",
        "    model.add(MaxPooling2D(pool_size=pool_size_matrix))\n",
        "    model.add(Flatten())\n",
        "    model.add(Dense(neurons_for_dense,activation=input_activation_function, kernel_initializer='he_uniform'))\n",
        "    model.add(Dense(class_number,activation=output_activation_function))\n",
        "    model.compile(loss='sparse_categorical_crossentropy',optimizer='adam',metrics=['accuracy']) \n",
        "    return model"
      ],
      "execution_count": 0,
      "outputs": []
    },
    {
      "cell_type": "code",
      "metadata": {
        "id": "bkfWobHpa3fi",
        "colab_type": "code",
        "colab": {}
      },
      "source": [
        "# evaluate a model using k-fold cross-validation\n",
        "def evaluate_model(x_train,x_labels, n_folds=5):\n",
        "\tscores, histories = list(), list()\n",
        "\t# prepare cross validation\n",
        "\tkfold = KFold(n_folds, shuffle=True, random_state=10)\n",
        "\t# enumerate splits\n",
        "\tfor train_ix, test_ix in kfold.split(x_train):\n",
        "\t\tmodel = model_building(neurons_cnn,filter_size,neurons_dense,activation_function,num_classes,out_activation_function,padding_condition,input_shape_grey,pool_size)\n",
        "\t\t# select rows for train and test\n",
        "\t\ttrainX, trainY, testX, testY = x_train[train_ix], x_labels[train_ix],x_train[test_ix],x_labels[test_ix]\n",
        "\t\t# fit model\n",
        "\t\thistory = model.fit(trainX, trainY, epochs=1000, batch_size=32, validation_data=(testX, testY), verbose=0)\n",
        "\t\t# evaluate model\n",
        "\t\t_, acc = model.evaluate(testX, testY, verbose=0)\n",
        "\t\tprint('> %.3f' % (acc * 100.0))\n",
        "\t\t# append scores\n",
        "\t\tscores.append(acc)\n",
        "\t\thistories.append(history)\n",
        "\treturn scores, histories\n",
        "# plot diagnostic learning curves\n",
        "def summarize_diagnostics(histories):\n",
        "\tfor i in range(len(histories)):\n",
        "\t\t# plot loss\n",
        "\t\tpyplot.subplot(211)\n",
        "\t\tpyplot.title('Cross Entropy Loss')\n",
        "\t\tpyplot.plot(histories[i].history['loss'], color='blue', label='train')\n",
        "\t\tpyplot.plot(histories[i].history['val_loss'], color='orange', label='test')\n",
        "\t\t# plot accuracy\n",
        "\t\tpyplot.subplot(212)\n",
        "\t\tpyplot.title('Classification Accuracy')\n",
        "\t\tpyplot.plot(histories[i].history['accuracy'], color='blue', label='train')\n",
        "\t\tpyplot.plot(histories[i].history['val_accuracy'], color='orange', label='test')\n",
        "\tpyplot.show()\n",
        " # summarize model performance\n",
        "def summarize_performance(scores):\n",
        "\t# print summary\n",
        "\tprint('Accuracy: mean=%.3f std=%.3f, n=%d' % (mean(scores)*100, std(scores)*100, len(scores)))\n",
        "\t# box and whisker plots of results\n",
        "\tpyplot.boxplot(scores)\n",
        "\tpyplot.show()\n",
        " \n",
        "# run the test harness for evaluating a model\n",
        "def run_test_harness():\n",
        "\t# evaluate model\n",
        "\tscores, histories = evaluate_model(x_train,train_labels)\n",
        "\t# learning curves\n",
        "\tsummarize_diagnostics(histories)\n",
        "\t# summarize estimated performance\n",
        "\tsummarize_performance(scores)\n",
        " \n",
        "# entry point, run the test harness\n",
        "run_test_harness()"
      ],
      "execution_count": 0,
      "outputs": []
    },
    {
      "cell_type": "code",
      "metadata": {
        "id": "u9FyBew8t8Hp",
        "colab_type": "code",
        "outputId": "71b4bd52-ba51-4e6f-ba6b-d8fb0e4bfe22",
        "colab": {
          "base_uri": "https://localhost:8080/",
          "height": 479
        }
      },
      "source": [
        "model = model_building(neurons_cnn,filter_size,neurons_dense,activation_function,num_classes,out_activation_function,padding_condition,input_shape_grey,pool_size)\n",
        "model.summary()\n",
        "\n",
        "#summary計算\n",
        "#第一層:(3*3+1)*32 =320\n",
        "#第二層:(3*3)*32*64 =18496\n",
        "#第三層:(3*3)*128*64 =73856\n",
        "#flatten:14*14*32=6272\n"
      ],
      "execution_count": 29,
      "outputs": [
        {
          "output_type": "stream",
          "text": [
            "Model: \"sequential_5\"\n",
            "_________________________________________________________________\n",
            "Layer (type)                 Output Shape              Param #   \n",
            "=================================================================\n",
            "conv2d_9 (Conv2D)            (None, 28, 28, 32)        320       \n",
            "_________________________________________________________________\n",
            "max_pooling2d_9 (MaxPooling2 (None, 14, 14, 32)        0         \n",
            "_________________________________________________________________\n",
            "conv2d_10 (Conv2D)           (None, 14, 14, 64)        18496     \n",
            "_________________________________________________________________\n",
            "max_pooling2d_10 (MaxPooling (None, 7, 7, 64)          0         \n",
            "_________________________________________________________________\n",
            "conv2d_11 (Conv2D)           (None, 7, 7, 128)         73856     \n",
            "_________________________________________________________________\n",
            "max_pooling2d_11 (MaxPooling (None, 3, 3, 128)         0         \n",
            "_________________________________________________________________\n",
            "flatten_5 (Flatten)          (None, 1152)              0         \n",
            "_________________________________________________________________\n",
            "dense_13 (Dense)             (None, 153)               176409    \n",
            "_________________________________________________________________\n",
            "dense_14 (Dense)             (None, 10)                1540      \n",
            "=================================================================\n",
            "Total params: 270,621\n",
            "Trainable params: 270,621\n",
            "Non-trainable params: 0\n",
            "_________________________________________________________________\n"
          ],
          "name": "stdout"
        }
      ]
    },
    {
      "cell_type": "code",
      "metadata": {
        "colab_type": "code",
        "id": "jBE6demSuHVS",
        "outputId": "01aa9c51-cd21-433c-d8c5-240deb066cff",
        "colab": {
          "base_uri": "https://localhost:8080/",
          "height": 746
        }
      },
      "source": [
        "model.fit(x_train,x_labels,validation_data=(val_train,val_labels),batch_size=batch_size,epochs=epochs)"
      ],
      "execution_count": 30,
      "outputs": [
        {
          "output_type": "stream",
          "text": [
            "Epoch 1/20\n",
            "167/167 [==============================] - 73s 440ms/step - loss: 0.7155 - accuracy: 0.7456 - val_loss: 0.4942 - val_accuracy: 0.8220\n",
            "Epoch 2/20\n",
            "167/167 [==============================] - 74s 441ms/step - loss: 0.3936 - accuracy: 0.8594 - val_loss: 0.3516 - val_accuracy: 0.8747\n",
            "Epoch 3/20\n",
            "167/167 [==============================] - 74s 441ms/step - loss: 0.3270 - accuracy: 0.8828 - val_loss: 0.3134 - val_accuracy: 0.8893\n",
            "Epoch 4/20\n",
            "167/167 [==============================] - 74s 441ms/step - loss: 0.2942 - accuracy: 0.8949 - val_loss: 0.3112 - val_accuracy: 0.8876\n",
            "Epoch 5/20\n",
            "167/167 [==============================] - 74s 441ms/step - loss: 0.2712 - accuracy: 0.9020 - val_loss: 0.3015 - val_accuracy: 0.8861\n",
            "Epoch 6/20\n",
            "167/167 [==============================] - 78s 467ms/step - loss: 0.2535 - accuracy: 0.9083 - val_loss: 0.2664 - val_accuracy: 0.9015\n",
            "Epoch 7/20\n",
            "167/167 [==============================] - 74s 441ms/step - loss: 0.2412 - accuracy: 0.9125 - val_loss: 0.2491 - val_accuracy: 0.9089\n",
            "Epoch 8/20\n",
            "167/167 [==============================] - 74s 442ms/step - loss: 0.2216 - accuracy: 0.9203 - val_loss: 0.2515 - val_accuracy: 0.9101\n",
            "Epoch 9/20\n",
            "167/167 [==============================] - 74s 443ms/step - loss: 0.2049 - accuracy: 0.9272 - val_loss: 0.2472 - val_accuracy: 0.9098\n",
            "Epoch 10/20\n",
            "167/167 [==============================] - 74s 442ms/step - loss: 0.1974 - accuracy: 0.9283 - val_loss: 0.2436 - val_accuracy: 0.9116\n",
            "Epoch 11/20\n",
            "167/167 [==============================] - 74s 444ms/step - loss: 0.1817 - accuracy: 0.9347 - val_loss: 0.2334 - val_accuracy: 0.9160\n",
            "Epoch 12/20\n",
            "167/167 [==============================] - 74s 444ms/step - loss: 0.1746 - accuracy: 0.9367 - val_loss: 0.2323 - val_accuracy: 0.9162\n",
            "Epoch 13/20\n",
            "167/167 [==============================] - 74s 442ms/step - loss: 0.1636 - accuracy: 0.9417 - val_loss: 0.2296 - val_accuracy: 0.9200\n",
            "Epoch 14/20\n",
            "167/167 [==============================] - 74s 442ms/step - loss: 0.1521 - accuracy: 0.9453 - val_loss: 0.2371 - val_accuracy: 0.9174\n",
            "Epoch 15/20\n",
            "167/167 [==============================] - 74s 441ms/step - loss: 0.1458 - accuracy: 0.9476 - val_loss: 0.2504 - val_accuracy: 0.9104\n",
            "Epoch 16/20\n",
            "167/167 [==============================] - 74s 441ms/step - loss: 0.1313 - accuracy: 0.9523 - val_loss: 0.2370 - val_accuracy: 0.9148\n",
            "Epoch 17/20\n",
            "167/167 [==============================] - 74s 442ms/step - loss: 0.1232 - accuracy: 0.9552 - val_loss: 0.2392 - val_accuracy: 0.9197\n",
            "Epoch 18/20\n",
            "167/167 [==============================] - 74s 443ms/step - loss: 0.1151 - accuracy: 0.9580 - val_loss: 0.2728 - val_accuracy: 0.9063\n",
            "Epoch 19/20\n",
            "167/167 [==============================] - 73s 437ms/step - loss: 0.1068 - accuracy: 0.9619 - val_loss: 0.2467 - val_accuracy: 0.9185\n",
            "Epoch 20/20\n",
            "167/167 [==============================] - 72s 434ms/step - loss: 0.1002 - accuracy: 0.9630 - val_loss: 0.2565 - val_accuracy: 0.9168\n"
          ],
          "name": "stdout"
        },
        {
          "output_type": "execute_result",
          "data": {
            "text/plain": [
              "<tensorflow.python.keras.callbacks.History at 0x7fbabb4fc160>"
            ]
          },
          "metadata": {
            "tags": []
          },
          "execution_count": 30
        }
      ]
    },
    {
      "cell_type": "code",
      "metadata": {
        "id": "YxGkLWhc3WK2",
        "colab_type": "code",
        "outputId": "37b68677-6424-4ad5-a54d-7b5421ebc1ef",
        "colab": {
          "base_uri": "https://localhost:8080/",
          "height": 90
        }
      },
      "source": [
        "result = model.predict_classes(test_images)"
      ],
      "execution_count": 31,
      "outputs": [
        {
          "output_type": "stream",
          "text": [
            "WARNING:tensorflow:From <ipython-input-31-1e909b133ad1>:1: Sequential.predict_classes (from tensorflow.python.keras.engine.sequential) is deprecated and will be removed after 2021-01-01.\n",
            "Instructions for updating:\n",
            "Please use instead:* `np.argmax(model.predict(x), axis=-1)`,   if your model does multi-class classification   (e.g. if it uses a `softmax` last-layer activation).* `(model.predict(x) > 0.5).astype(\"int32\")`,   if your model does binary classification   (e.g. if it uses a `sigmoid` last-layer activation).\n"
          ],
          "name": "stdout"
        }
      ]
    },
    {
      "cell_type": "code",
      "metadata": {
        "id": "9NjpcZRS5Gwx",
        "colab_type": "code",
        "outputId": "cc3f8af1-4221-41c8-afa3-18b68a88f9fa",
        "colab": {
          "base_uri": "https://localhost:8080/",
          "height": 621
        }
      },
      "source": [
        "from sklearn import metrics\n",
        "result = model.predict_classes(test_images)\n",
        "print('\\n\\n the result \\n\\n Confusion Matrix\\n\\n',metrics.confusion_matrix(result, test_labels))\n",
        "print(\"\\n\",metrics.classification_report(result, test_labels, digits=3))"
      ],
      "execution_count": 32,
      "outputs": [
        {
          "output_type": "stream",
          "text": [
            "\n",
            "\n",
            " the result \n",
            "\n",
            " Confusion Matrix\n",
            "\n",
            " [[829   3  13  15   0   0  66   0   2   0]\n",
            " [  0 977   0   1   0   0   0   0   0   0]\n",
            " [ 14   1 870  10  30   0  51   0   2   1]\n",
            " [ 20  15  10 925  22   0  28   0   3   0]\n",
            " [ 12   2  73  27 926   0 119   0   6   0]\n",
            " [  2   0   0   0   0 975   0   3   1   7]\n",
            " [115   0  33  20  22   0 732   0   1   0]\n",
            " [  0   0   0   0   0  20   0 990   4  51]\n",
            " [  8   2   1   2   0   0   4   0 981   0]\n",
            " [  0   0   0   0   0   5   0   7   0 941]]\n",
            "\n",
            "               precision    recall  f1-score   support\n",
            "\n",
            "           0      0.829     0.893     0.860       928\n",
            "           1      0.977     0.999     0.988       978\n",
            "           2      0.870     0.889     0.879       979\n",
            "           3      0.925     0.904     0.914      1023\n",
            "           4      0.926     0.795     0.855      1165\n",
            "           5      0.975     0.987     0.981       988\n",
            "           6      0.732     0.793     0.761       923\n",
            "           7      0.990     0.930     0.959      1065\n",
            "           8      0.981     0.983     0.982       998\n",
            "           9      0.941     0.987     0.964       953\n",
            "\n",
            "    accuracy                          0.915     10000\n",
            "   macro avg      0.915     0.916     0.914     10000\n",
            "weighted avg      0.917     0.915     0.915     10000\n",
            "\n"
          ],
          "name": "stdout"
        }
      ]
    },
    {
      "cell_type": "code",
      "metadata": {
        "id": "VeeOsq4GlQ50",
        "colab_type": "code",
        "colab": {}
      },
      "source": [
        "model.save('手寫辨識cnn.h5')"
      ],
      "execution_count": 0,
      "outputs": []
    }
  ]
}